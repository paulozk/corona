{
 "cells": [
  {
   "cell_type": "code",
   "execution_count": 1,
   "metadata": {},
   "outputs": [],
   "source": [
    "# this notebook preprocesses the data to feed it to a forcasting model"
   ]
  },
  {
   "cell_type": "code",
   "execution_count": 2,
   "metadata": {},
   "outputs": [],
   "source": [
    "import pandas as pd\n",
    "import numpy as np\n",
    "import matplotlib.pyplot as plt\n",
    "import seaborn as sns"
   ]
  },
  {
   "cell_type": "code",
   "execution_count": 3,
   "metadata": {},
   "outputs": [],
   "source": [
    "data = pd.read_csv(\"../data/COVID19_timeseries.csv\")"
   ]
  },
  {
   "cell_type": "code",
   "execution_count": 4,
   "metadata": {},
   "outputs": [
    {
     "data": {
      "text/html": [
       "<div>\n",
       "<style scoped>\n",
       "    .dataframe tbody tr th:only-of-type {\n",
       "        vertical-align: middle;\n",
       "    }\n",
       "\n",
       "    .dataframe tbody tr th {\n",
       "        vertical-align: top;\n",
       "    }\n",
       "\n",
       "    .dataframe thead th {\n",
       "        text-align: right;\n",
       "    }\n",
       "</style>\n",
       "<table border=\"1\" class=\"dataframe\">\n",
       "  <thead>\n",
       "    <tr style=\"text-align: right;\">\n",
       "      <th></th>\n",
       "      <th>country</th>\n",
       "      <th>date</th>\n",
       "      <th>infections</th>\n",
       "      <th>Lat</th>\n",
       "      <th>Long</th>\n",
       "      <th>deaths</th>\n",
       "      <th>recovered</th>\n",
       "      <th>Continent</th>\n",
       "      <th>bed_occupancy</th>\n",
       "      <th>ICU_beds</th>\n",
       "      <th>Population</th>\n",
       "      <th>population_world</th>\n",
       "      <th>age_0_to_64</th>\n",
       "      <th>age_15_to_64</th>\n",
       "      <th>age_over_65</th>\n",
       "      <th>month</th>\n",
       "      <th>day</th>\n",
       "    </tr>\n",
       "  </thead>\n",
       "  <tbody>\n",
       "    <tr>\n",
       "      <th>0</th>\n",
       "      <td>Australia</td>\n",
       "      <td>1/24/20</td>\n",
       "      <td>0</td>\n",
       "      <td>-24.502867</td>\n",
       "      <td>141.055589</td>\n",
       "      <td>0</td>\n",
       "      <td>0</td>\n",
       "      <td>Oceania</td>\n",
       "      <td>NaN</td>\n",
       "      <td>NaN</td>\n",
       "      <td>25649909.0</td>\n",
       "      <td>0.0033</td>\n",
       "      <td>0.19</td>\n",
       "      <td>0.655</td>\n",
       "      <td>0.155</td>\n",
       "      <td>1.0</td>\n",
       "      <td>24.0</td>\n",
       "    </tr>\n",
       "    <tr>\n",
       "      <th>1</th>\n",
       "      <td>Australia</td>\n",
       "      <td>1/25/20</td>\n",
       "      <td>0</td>\n",
       "      <td>-24.502867</td>\n",
       "      <td>141.055589</td>\n",
       "      <td>0</td>\n",
       "      <td>0</td>\n",
       "      <td>Oceania</td>\n",
       "      <td>NaN</td>\n",
       "      <td>NaN</td>\n",
       "      <td>25649909.0</td>\n",
       "      <td>0.0033</td>\n",
       "      <td>0.19</td>\n",
       "      <td>0.655</td>\n",
       "      <td>0.155</td>\n",
       "      <td>1.0</td>\n",
       "      <td>25.0</td>\n",
       "    </tr>\n",
       "    <tr>\n",
       "      <th>2</th>\n",
       "      <td>Australia</td>\n",
       "      <td>1/26/20</td>\n",
       "      <td>4</td>\n",
       "      <td>-24.502867</td>\n",
       "      <td>141.055589</td>\n",
       "      <td>0</td>\n",
       "      <td>0</td>\n",
       "      <td>Oceania</td>\n",
       "      <td>NaN</td>\n",
       "      <td>NaN</td>\n",
       "      <td>25649909.0</td>\n",
       "      <td>0.0033</td>\n",
       "      <td>0.19</td>\n",
       "      <td>0.655</td>\n",
       "      <td>0.155</td>\n",
       "      <td>1.0</td>\n",
       "      <td>26.0</td>\n",
       "    </tr>\n",
       "    <tr>\n",
       "      <th>3</th>\n",
       "      <td>Australia</td>\n",
       "      <td>1/27/20</td>\n",
       "      <td>5</td>\n",
       "      <td>-24.502867</td>\n",
       "      <td>141.055589</td>\n",
       "      <td>0</td>\n",
       "      <td>0</td>\n",
       "      <td>Oceania</td>\n",
       "      <td>NaN</td>\n",
       "      <td>NaN</td>\n",
       "      <td>25649909.0</td>\n",
       "      <td>0.0033</td>\n",
       "      <td>0.19</td>\n",
       "      <td>0.655</td>\n",
       "      <td>0.155</td>\n",
       "      <td>1.0</td>\n",
       "      <td>27.0</td>\n",
       "    </tr>\n",
       "    <tr>\n",
       "      <th>4</th>\n",
       "      <td>Australia</td>\n",
       "      <td>1/28/20</td>\n",
       "      <td>5</td>\n",
       "      <td>-24.502867</td>\n",
       "      <td>141.055589</td>\n",
       "      <td>0</td>\n",
       "      <td>0</td>\n",
       "      <td>Oceania</td>\n",
       "      <td>NaN</td>\n",
       "      <td>NaN</td>\n",
       "      <td>25649909.0</td>\n",
       "      <td>0.0033</td>\n",
       "      <td>0.19</td>\n",
       "      <td>0.655</td>\n",
       "      <td>0.155</td>\n",
       "      <td>1.0</td>\n",
       "      <td>28.0</td>\n",
       "    </tr>\n",
       "  </tbody>\n",
       "</table>\n",
       "</div>"
      ],
      "text/plain": [
       "     country     date  infections        Lat        Long  deaths  recovered  \\\n",
       "0  Australia  1/24/20           0 -24.502867  141.055589       0          0   \n",
       "1  Australia  1/25/20           0 -24.502867  141.055589       0          0   \n",
       "2  Australia  1/26/20           4 -24.502867  141.055589       0          0   \n",
       "3  Australia  1/27/20           5 -24.502867  141.055589       0          0   \n",
       "4  Australia  1/28/20           5 -24.502867  141.055589       0          0   \n",
       "\n",
       "  Continent  bed_occupancy  ICU_beds  Population  population_world  \\\n",
       "0   Oceania            NaN       NaN  25649909.0            0.0033   \n",
       "1   Oceania            NaN       NaN  25649909.0            0.0033   \n",
       "2   Oceania            NaN       NaN  25649909.0            0.0033   \n",
       "3   Oceania            NaN       NaN  25649909.0            0.0033   \n",
       "4   Oceania            NaN       NaN  25649909.0            0.0033   \n",
       "\n",
       "   age_0_to_64  age_15_to_64  age_over_65  month   day  \n",
       "0         0.19         0.655        0.155    1.0  24.0  \n",
       "1         0.19         0.655        0.155    1.0  25.0  \n",
       "2         0.19         0.655        0.155    1.0  26.0  \n",
       "3         0.19         0.655        0.155    1.0  27.0  \n",
       "4         0.19         0.655        0.155    1.0  28.0  "
      ]
     },
     "execution_count": 4,
     "metadata": {},
     "output_type": "execute_result"
    }
   ],
   "source": [
    "data.head()"
   ]
  },
  {
   "cell_type": "code",
   "execution_count": 5,
   "metadata": {},
   "outputs": [
    {
     "data": {
      "text/plain": [
       "(1887, 17)"
      ]
     },
     "execution_count": 5,
     "metadata": {},
     "output_type": "execute_result"
    }
   ],
   "source": [
    "data.shape"
   ]
  },
  {
   "cell_type": "code",
   "execution_count": 6,
   "metadata": {},
   "outputs": [],
   "source": [
    "# add country as index\n",
    "data = data.set_index('country')"
   ]
  },
  {
   "cell_type": "code",
   "execution_count": 7,
   "metadata": {},
   "outputs": [],
   "source": [
    "# dummy encode the 'Continent' column\n",
    "data = pd.concat([data, pd.get_dummies(data['Continent'])], axis=1).drop('Continent', axis=1)"
   ]
  },
  {
   "cell_type": "code",
   "execution_count": 8,
   "metadata": {},
   "outputs": [],
   "source": [
    "# drop the date and population column \n",
    "data = data.drop(['date', 'Population'], axis=1)"
   ]
  },
  {
   "cell_type": "code",
   "execution_count": 9,
   "metadata": {},
   "outputs": [
    {
     "data": {
      "text/plain": [
       "<matplotlib.axes._subplots.AxesSubplot at 0x20d92f8ceb8>"
      ]
     },
     "execution_count": 9,
     "metadata": {},
     "output_type": "execute_result"
    },
    {
     "data": {
      "image/png": "[encoded data removed]",
      "text/plain": [
       "<Figure size 1080x720 with 2 Axes>"
      ]
     },
     "metadata": {
      "needs_background": "light"
     },
     "output_type": "display_data"
    }
   ],
   "source": [
    "# visualize correlations between columns\n",
    "fig, ax = plt.subplots(1, 1)\n",
    "fig.set_size_inches(15, 10)\n",
    "sns.heatmap(data.corr(), cmap='hot', ax=ax)"
   ]
  },
  {
   "cell_type": "code",
   "execution_count": 10,
   "metadata": {},
   "outputs": [],
   "source": [
    "# bed_occupancy and ICU_beds contain NaNs values\n",
    "# KNN impute both columns\n",
    "\n",
    "from sklearn.impute import KNNImputer\n",
    "imputer = KNNImputer(n_neighbors=3)"
   ]
  },
  {
   "cell_type": "code",
   "execution_count": 11,
   "metadata": {},
   "outputs": [
    {
     "data": {
      "text/plain": [
       "KNNImputer(add_indicator=False, copy=True, metric='nan_euclidean',\n",
       "           missing_values=nan, n_neighbors=3, weights='uniform')"
      ]
     },
     "execution_count": 11,
     "metadata": {},
     "output_type": "execute_result"
    }
   ],
   "source": [
    "imputer.fit(data)"
   ]
  },
  {
   "cell_type": "code",
   "execution_count": 12,
   "metadata": {},
   "outputs": [],
   "source": [
    "data = pd.DataFrame(imputer.transform(data), columns=data.columns, index=data.index)"
   ]
  },
  {
   "cell_type": "code",
   "execution_count": 13,
   "metadata": {},
   "outputs": [
    {
     "data": {
      "text/html": [
       "<div>\n",
       "<style scoped>\n",
       "    .dataframe tbody tr th:only-of-type {\n",
       "        vertical-align: middle;\n",
       "    }\n",
       "\n",
       "    .dataframe tbody tr th {\n",
       "        vertical-align: top;\n",
       "    }\n",
       "\n",
       "    .dataframe thead th {\n",
       "        text-align: right;\n",
       "    }\n",
       "</style>\n",
       "<table border=\"1\" class=\"dataframe\">\n",
       "  <thead>\n",
       "    <tr style=\"text-align: right;\">\n",
       "      <th></th>\n",
       "      <th>infections</th>\n",
       "      <th>Lat</th>\n",
       "      <th>Long</th>\n",
       "      <th>deaths</th>\n",
       "      <th>recovered</th>\n",
       "      <th>bed_occupancy</th>\n",
       "      <th>ICU_beds</th>\n",
       "      <th>population_world</th>\n",
       "      <th>age_0_to_64</th>\n",
       "      <th>age_15_to_64</th>\n",
       "      <th>age_over_65</th>\n",
       "      <th>month</th>\n",
       "      <th>day</th>\n",
       "      <th>Asia</th>\n",
       "      <th>Europe</th>\n",
       "      <th>North America</th>\n",
       "      <th>Oceania</th>\n",
       "      <th>South America</th>\n",
       "    </tr>\n",
       "    <tr>\n",
       "      <th>country</th>\n",
       "      <th></th>\n",
       "      <th></th>\n",
       "      <th></th>\n",
       "      <th></th>\n",
       "      <th></th>\n",
       "      <th></th>\n",
       "      <th></th>\n",
       "      <th></th>\n",
       "      <th></th>\n",
       "      <th></th>\n",
       "      <th></th>\n",
       "      <th></th>\n",
       "      <th></th>\n",
       "      <th></th>\n",
       "      <th></th>\n",
       "      <th></th>\n",
       "      <th></th>\n",
       "      <th></th>\n",
       "    </tr>\n",
       "  </thead>\n",
       "  <tbody>\n",
       "    <tr>\n",
       "      <th>Australia</th>\n",
       "      <td>0.0</td>\n",
       "      <td>-24.502867</td>\n",
       "      <td>141.055589</td>\n",
       "      <td>0.0</td>\n",
       "      <td>0.0</td>\n",
       "      <td>0.755</td>\n",
       "      <td>46.0</td>\n",
       "      <td>0.0033</td>\n",
       "      <td>0.19</td>\n",
       "      <td>0.655</td>\n",
       "      <td>0.155</td>\n",
       "      <td>1.0</td>\n",
       "      <td>24.0</td>\n",
       "      <td>0.0</td>\n",
       "      <td>0.0</td>\n",
       "      <td>0.0</td>\n",
       "      <td>1.0</td>\n",
       "      <td>0.0</td>\n",
       "    </tr>\n",
       "    <tr>\n",
       "      <th>Australia</th>\n",
       "      <td>0.0</td>\n",
       "      <td>-24.502867</td>\n",
       "      <td>141.055589</td>\n",
       "      <td>0.0</td>\n",
       "      <td>0.0</td>\n",
       "      <td>0.755</td>\n",
       "      <td>46.0</td>\n",
       "      <td>0.0033</td>\n",
       "      <td>0.19</td>\n",
       "      <td>0.655</td>\n",
       "      <td>0.155</td>\n",
       "      <td>1.0</td>\n",
       "      <td>25.0</td>\n",
       "      <td>0.0</td>\n",
       "      <td>0.0</td>\n",
       "      <td>0.0</td>\n",
       "      <td>1.0</td>\n",
       "      <td>0.0</td>\n",
       "    </tr>\n",
       "    <tr>\n",
       "      <th>Australia</th>\n",
       "      <td>4.0</td>\n",
       "      <td>-24.502867</td>\n",
       "      <td>141.055589</td>\n",
       "      <td>0.0</td>\n",
       "      <td>0.0</td>\n",
       "      <td>0.755</td>\n",
       "      <td>46.0</td>\n",
       "      <td>0.0033</td>\n",
       "      <td>0.19</td>\n",
       "      <td>0.655</td>\n",
       "      <td>0.155</td>\n",
       "      <td>1.0</td>\n",
       "      <td>26.0</td>\n",
       "      <td>0.0</td>\n",
       "      <td>0.0</td>\n",
       "      <td>0.0</td>\n",
       "      <td>1.0</td>\n",
       "      <td>0.0</td>\n",
       "    </tr>\n",
       "    <tr>\n",
       "      <th>Australia</th>\n",
       "      <td>5.0</td>\n",
       "      <td>-24.502867</td>\n",
       "      <td>141.055589</td>\n",
       "      <td>0.0</td>\n",
       "      <td>0.0</td>\n",
       "      <td>0.755</td>\n",
       "      <td>46.0</td>\n",
       "      <td>0.0033</td>\n",
       "      <td>0.19</td>\n",
       "      <td>0.655</td>\n",
       "      <td>0.155</td>\n",
       "      <td>1.0</td>\n",
       "      <td>27.0</td>\n",
       "      <td>0.0</td>\n",
       "      <td>0.0</td>\n",
       "      <td>0.0</td>\n",
       "      <td>1.0</td>\n",
       "      <td>0.0</td>\n",
       "    </tr>\n",
       "    <tr>\n",
       "      <th>Australia</th>\n",
       "      <td>5.0</td>\n",
       "      <td>-24.502867</td>\n",
       "      <td>141.055589</td>\n",
       "      <td>0.0</td>\n",
       "      <td>0.0</td>\n",
       "      <td>0.755</td>\n",
       "      <td>46.0</td>\n",
       "      <td>0.0033</td>\n",
       "      <td>0.19</td>\n",
       "      <td>0.655</td>\n",
       "      <td>0.155</td>\n",
       "      <td>1.0</td>\n",
       "      <td>28.0</td>\n",
       "      <td>0.0</td>\n",
       "      <td>0.0</td>\n",
       "      <td>0.0</td>\n",
       "      <td>1.0</td>\n",
       "      <td>0.0</td>\n",
       "    </tr>\n",
       "  </tbody>\n",
       "</table>\n",
       "</div>"
      ],
      "text/plain": [
       "           infections        Lat        Long  deaths  recovered  \\\n",
       "country                                                           \n",
       "Australia         0.0 -24.502867  141.055589     0.0        0.0   \n",
       "Australia         0.0 -24.502867  141.055589     0.0        0.0   \n",
       "Australia         4.0 -24.502867  141.055589     0.0        0.0   \n",
       "Australia         5.0 -24.502867  141.055589     0.0        0.0   \n",
       "Australia         5.0 -24.502867  141.055589     0.0        0.0   \n",
       "\n",
       "           bed_occupancy  ICU_beds  population_world  age_0_to_64  \\\n",
       "country                                                             \n",
       "Australia          0.755      46.0            0.0033         0.19   \n",
       "Australia          0.755      46.0            0.0033         0.19   \n",
       "Australia          0.755      46.0            0.0033         0.19   \n",
       "Australia          0.755      46.0            0.0033         0.19   \n",
       "Australia          0.755      46.0            0.0033         0.19   \n",
       "\n",
       "           age_15_to_64  age_over_65  month   day  Asia  Europe  \\\n",
       "country                                                           \n",
       "Australia         0.655        0.155    1.0  24.0   0.0     0.0   \n",
       "Australia         0.655        0.155    1.0  25.0   0.0     0.0   \n",
       "Australia         0.655        0.155    1.0  26.0   0.0     0.0   \n",
       "Australia         0.655        0.155    1.0  27.0   0.0     0.0   \n",
       "Australia         0.655        0.155    1.0  28.0   0.0     0.0   \n",
       "\n",
       "           North America  Oceania  South America  \n",
       "country                                           \n",
       "Australia            0.0      1.0            0.0  \n",
       "Australia            0.0      1.0            0.0  \n",
       "Australia            0.0      1.0            0.0  \n",
       "Australia            0.0      1.0            0.0  \n",
       "Australia            0.0      1.0            0.0  "
      ]
     },
     "execution_count": 13,
     "metadata": {},
     "output_type": "execute_result"
    }
   ],
   "source": [
    "# set country as index\n",
    "data.head()"
   ]
  },
  {
   "cell_type": "code",
   "execution_count": 14,
   "metadata": {},
   "outputs": [],
   "source": [
    "# use Netherlands as test data series and Belgium as validation series\n",
    "data_nl = data[data.index == \"Netherlands\"]\n",
    "data_bel = data[data.index == \"Belgium\"]"
   ]
  },
  {
   "cell_type": "code",
   "execution_count": 15,
   "metadata": {},
   "outputs": [],
   "source": [
    "# drop test and validation data from train data\n",
    "data = data.drop(['Netherlands', 'Belgium'])"
   ]
  },
  {
   "cell_type": "code",
   "execution_count": 16,
   "metadata": {},
   "outputs": [
    {
     "data": {
      "text/html": [
       "<div>\n",
       "<style scoped>\n",
       "    .dataframe tbody tr th:only-of-type {\n",
       "        vertical-align: middle;\n",
       "    }\n",
       "\n",
       "    .dataframe tbody tr th {\n",
       "        vertical-align: top;\n",
       "    }\n",
       "\n",
       "    .dataframe thead th {\n",
       "        text-align: right;\n",
       "    }\n",
       "</style>\n",
       "<table border=\"1\" class=\"dataframe\">\n",
       "  <thead>\n",
       "    <tr style=\"text-align: right;\">\n",
       "      <th></th>\n",
       "      <th>infections</th>\n",
       "      <th>Lat</th>\n",
       "      <th>Long</th>\n",
       "      <th>deaths</th>\n",
       "      <th>recovered</th>\n",
       "      <th>bed_occupancy</th>\n",
       "      <th>ICU_beds</th>\n",
       "      <th>population_world</th>\n",
       "      <th>age_0_to_64</th>\n",
       "      <th>age_15_to_64</th>\n",
       "      <th>age_over_65</th>\n",
       "      <th>month</th>\n",
       "      <th>day</th>\n",
       "      <th>Asia</th>\n",
       "      <th>Europe</th>\n",
       "      <th>North America</th>\n",
       "      <th>Oceania</th>\n",
       "      <th>South America</th>\n",
       "    </tr>\n",
       "    <tr>\n",
       "      <th>country</th>\n",
       "      <th></th>\n",
       "      <th></th>\n",
       "      <th></th>\n",
       "      <th></th>\n",
       "      <th></th>\n",
       "      <th></th>\n",
       "      <th></th>\n",
       "      <th></th>\n",
       "      <th></th>\n",
       "      <th></th>\n",
       "      <th></th>\n",
       "      <th></th>\n",
       "      <th></th>\n",
       "      <th></th>\n",
       "      <th></th>\n",
       "      <th></th>\n",
       "      <th></th>\n",
       "      <th></th>\n",
       "    </tr>\n",
       "  </thead>\n",
       "  <tbody>\n",
       "    <tr>\n",
       "      <th>Netherlands</th>\n",
       "      <td>0.0</td>\n",
       "      <td>52.1326</td>\n",
       "      <td>5.2913</td>\n",
       "      <td>0.0</td>\n",
       "      <td>0.0</td>\n",
       "      <td>0.654</td>\n",
       "      <td>6.4</td>\n",
       "      <td>0.00224</td>\n",
       "      <td>0.164</td>\n",
       "      <td>0.648</td>\n",
       "      <td>0.188</td>\n",
       "      <td>1.0</td>\n",
       "      <td>24.0</td>\n",
       "      <td>0.0</td>\n",
       "      <td>1.0</td>\n",
       "      <td>0.0</td>\n",
       "      <td>0.0</td>\n",
       "      <td>0.0</td>\n",
       "    </tr>\n",
       "    <tr>\n",
       "      <th>Netherlands</th>\n",
       "      <td>0.0</td>\n",
       "      <td>52.1326</td>\n",
       "      <td>5.2913</td>\n",
       "      <td>0.0</td>\n",
       "      <td>0.0</td>\n",
       "      <td>0.654</td>\n",
       "      <td>6.4</td>\n",
       "      <td>0.00224</td>\n",
       "      <td>0.164</td>\n",
       "      <td>0.648</td>\n",
       "      <td>0.188</td>\n",
       "      <td>1.0</td>\n",
       "      <td>25.0</td>\n",
       "      <td>0.0</td>\n",
       "      <td>1.0</td>\n",
       "      <td>0.0</td>\n",
       "      <td>0.0</td>\n",
       "      <td>0.0</td>\n",
       "    </tr>\n",
       "    <tr>\n",
       "      <th>Netherlands</th>\n",
       "      <td>0.0</td>\n",
       "      <td>52.1326</td>\n",
       "      <td>5.2913</td>\n",
       "      <td>0.0</td>\n",
       "      <td>0.0</td>\n",
       "      <td>0.654</td>\n",
       "      <td>6.4</td>\n",
       "      <td>0.00224</td>\n",
       "      <td>0.164</td>\n",
       "      <td>0.648</td>\n",
       "      <td>0.188</td>\n",
       "      <td>1.0</td>\n",
       "      <td>26.0</td>\n",
       "      <td>0.0</td>\n",
       "      <td>1.0</td>\n",
       "      <td>0.0</td>\n",
       "      <td>0.0</td>\n",
       "      <td>0.0</td>\n",
       "    </tr>\n",
       "    <tr>\n",
       "      <th>Netherlands</th>\n",
       "      <td>0.0</td>\n",
       "      <td>52.1326</td>\n",
       "      <td>5.2913</td>\n",
       "      <td>0.0</td>\n",
       "      <td>0.0</td>\n",
       "      <td>0.654</td>\n",
       "      <td>6.4</td>\n",
       "      <td>0.00224</td>\n",
       "      <td>0.164</td>\n",
       "      <td>0.648</td>\n",
       "      <td>0.188</td>\n",
       "      <td>1.0</td>\n",
       "      <td>27.0</td>\n",
       "      <td>0.0</td>\n",
       "      <td>1.0</td>\n",
       "      <td>0.0</td>\n",
       "      <td>0.0</td>\n",
       "      <td>0.0</td>\n",
       "    </tr>\n",
       "    <tr>\n",
       "      <th>Netherlands</th>\n",
       "      <td>0.0</td>\n",
       "      <td>52.1326</td>\n",
       "      <td>5.2913</td>\n",
       "      <td>0.0</td>\n",
       "      <td>0.0</td>\n",
       "      <td>0.654</td>\n",
       "      <td>6.4</td>\n",
       "      <td>0.00224</td>\n",
       "      <td>0.164</td>\n",
       "      <td>0.648</td>\n",
       "      <td>0.188</td>\n",
       "      <td>1.0</td>\n",
       "      <td>28.0</td>\n",
       "      <td>0.0</td>\n",
       "      <td>1.0</td>\n",
       "      <td>0.0</td>\n",
       "      <td>0.0</td>\n",
       "      <td>0.0</td>\n",
       "    </tr>\n",
       "  </tbody>\n",
       "</table>\n",
       "</div>"
      ],
      "text/plain": [
       "             infections      Lat    Long  deaths  recovered  bed_occupancy  \\\n",
       "country                                                                      \n",
       "Netherlands         0.0  52.1326  5.2913     0.0        0.0          0.654   \n",
       "Netherlands         0.0  52.1326  5.2913     0.0        0.0          0.654   \n",
       "Netherlands         0.0  52.1326  5.2913     0.0        0.0          0.654   \n",
       "Netherlands         0.0  52.1326  5.2913     0.0        0.0          0.654   \n",
       "Netherlands         0.0  52.1326  5.2913     0.0        0.0          0.654   \n",
       "\n",
       "             ICU_beds  population_world  age_0_to_64  age_15_to_64  \\\n",
       "country                                                              \n",
       "Netherlands       6.4           0.00224        0.164         0.648   \n",
       "Netherlands       6.4           0.00224        0.164         0.648   \n",
       "Netherlands       6.4           0.00224        0.164         0.648   \n",
       "Netherlands       6.4           0.00224        0.164         0.648   \n",
       "Netherlands       6.4           0.00224        0.164         0.648   \n",
       "\n",
       "             age_over_65  month   day  Asia  Europe  North America  Oceania  \\\n",
       "country                                                                       \n",
       "Netherlands        0.188    1.0  24.0   0.0     1.0            0.0      0.0   \n",
       "Netherlands        0.188    1.0  25.0   0.0     1.0            0.0      0.0   \n",
       "Netherlands        0.188    1.0  26.0   0.0     1.0            0.0      0.0   \n",
       "Netherlands        0.188    1.0  27.0   0.0     1.0            0.0      0.0   \n",
       "Netherlands        0.188    1.0  28.0   0.0     1.0            0.0      0.0   \n",
       "\n",
       "             South America  \n",
       "country                     \n",
       "Netherlands            0.0  \n",
       "Netherlands            0.0  \n",
       "Netherlands            0.0  \n",
       "Netherlands            0.0  \n",
       "Netherlands            0.0  "
      ]
     },
     "execution_count": 16,
     "metadata": {},
     "output_type": "execute_result"
    }
   ],
   "source": [
    "data_nl.head()"
   ]
  },
  {
   "cell_type": "code",
   "execution_count": 17,
   "metadata": {},
   "outputs": [],
   "source": [
    "n_countries = 35\n",
    "n_timesteps = 51\n",
    "n_features = len(data.columns)"
   ]
  },
  {
   "cell_type": "code",
   "execution_count": 18,
   "metadata": {},
   "outputs": [],
   "source": [
    "# reshape data to appropriate 3D timeseries data\n",
    "x_train = np.reshape(data.values, (n_countries, n_timesteps, n_features))"
   ]
  },
  {
   "cell_type": "code",
   "execution_count": 19,
   "metadata": {},
   "outputs": [],
   "source": [
    "x_val = np.reshape(data_bel.values, (1, n_timesteps, n_features))\n",
    "x_test = np.reshape(data_nl.values, (1, n_timesteps, n_features))"
   ]
  },
  {
   "cell_type": "code",
   "execution_count": 20,
   "metadata": {},
   "outputs": [],
   "source": [
    "# create the labels by shifting the 'infections' column to the left\n",
    "y_train = x_train[:, :, 0].copy()\n",
    "y_val = x_val[:, :, 0].copy()\n",
    "y_test = x_test[:, :, 0].copy()"
   ]
  },
  {
   "cell_type": "code",
   "execution_count": 21,
   "metadata": {},
   "outputs": [],
   "source": [
    "# to shift to left, remove first element\n",
    "y_train = y_train[:, 1:]\n",
    "y_val = y_val[:, 1:]\n",
    "y_test = y_test[:, 1:]"
   ]
  },
  {
   "cell_type": "code",
   "execution_count": 22,
   "metadata": {},
   "outputs": [],
   "source": [
    "# shift data to right by removing final timestep\n",
    "x_train = x_train[:, :-1]\n",
    "x_val = x_val[:, :-1]\n",
    "x_test = x_test[:, :-1]"
   ]
  },
  {
   "cell_type": "code",
   "execution_count": 23,
   "metadata": {},
   "outputs": [
    {
     "data": {
      "text/plain": [
       "((35, 50, 18), (1, 50, 18), (1, 50, 18))"
      ]
     },
     "execution_count": 23,
     "metadata": {},
     "output_type": "execute_result"
    }
   ],
   "source": [
    "x_train.shape, x_val.shape, x_test.shape"
   ]
  },
  {
   "cell_type": "code",
   "execution_count": 24,
   "metadata": {},
   "outputs": [
    {
     "data": {
      "text/plain": [
       "((35, 50), (1, 50), (1, 50))"
      ]
     },
     "execution_count": 24,
     "metadata": {},
     "output_type": "execute_result"
    }
   ],
   "source": [
    "y_train.shape, y_val.shape, y_test.shape"
   ]
  },
  {
   "cell_type": "code",
   "execution_count": null,
   "metadata": {},
   "outputs": [],
   "source": []
  },
  {
   "cell_type": "code",
   "execution_count": null,
   "metadata": {},
   "outputs": [],
   "source": []
  },
  {
   "cell_type": "code",
   "execution_count": null,
   "metadata": {},
   "outputs": [],
   "source": []
  }
 ],
 "metadata": {
  "kernelspec": {
   "display_name": "Python 3",
   "language": "python",
   "name": "python3"
  },
  "language_info": {
   "codemirror_mode": {
    "name": "ipython",
    "version": 3
   },
   "file_extension": ".py",
   "mimetype": "text/x-python",
   "name": "python",
   "nbconvert_exporter": "python",
   "pygments_lexer": "ipython3",
   "version": "3.6.10"
  }
 },
 "nbformat": 4,
 "nbformat_minor": 4
}
