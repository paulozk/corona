{
 "cells": [
  {
   "cell_type": "code",
   "execution_count": 1,
   "metadata": {},
   "outputs": [],
   "source": [
    "# this notebook preprocesses the data to feed it to a forcasting model"
   ]
  },
  {
   "cell_type": "code",
   "execution_count": 2,
   "metadata": {},
   "outputs": [],
   "source": [
    "import pandas as pd\n",
    "import numpy as np\n",
    "import matplotlib.pyplot as plt\n",
    "import seaborn as sns"
   ]
  },
  {
   "cell_type": "code",
   "execution_count": 3,
   "metadata": {},
   "outputs": [],
   "source": [
    "data = pd.read_csv(\"../data/COVID19_timeseries.csv\")"
   ]
  },
  {
   "cell_type": "code",
   "execution_count": 4,
   "metadata": {},
   "outputs": [
    {
     "data": {
      "text/html": [
       "<div>\n",
       "<style scoped>\n",
       "    .dataframe tbody tr th:only-of-type {\n",
       "        vertical-align: middle;\n",
       "    }\n",
       "\n",
       "    .dataframe tbody tr th {\n",
       "        vertical-align: top;\n",
       "    }\n",
       "\n",
       "    .dataframe thead th {\n",
       "        text-align: right;\n",
       "    }\n",
       "</style>\n",
       "<table border=\"1\" class=\"dataframe\">\n",
       "  <thead>\n",
       "    <tr style=\"text-align: right;\">\n",
       "      <th></th>\n",
       "      <th>country</th>\n",
       "      <th>date</th>\n",
       "      <th>infections</th>\n",
       "      <th>Lat</th>\n",
       "      <th>Long</th>\n",
       "      <th>deaths</th>\n",
       "      <th>recovered</th>\n",
       "      <th>Continent</th>\n",
       "      <th>bed_occupancy</th>\n",
       "      <th>ICU_beds</th>\n",
       "      <th>Population</th>\n",
       "      <th>population_world</th>\n",
       "      <th>age_0_to_64</th>\n",
       "      <th>age_15_to_64</th>\n",
       "      <th>age_over_65</th>\n",
       "      <th>month</th>\n",
       "      <th>day</th>\n",
       "    </tr>\n",
       "  </thead>\n",
       "  <tbody>\n",
       "    <tr>\n",
       "      <th>0</th>\n",
       "      <td>Australia</td>\n",
       "      <td>1/24/20</td>\n",
       "      <td>0</td>\n",
       "      <td>-24.502867</td>\n",
       "      <td>141.055589</td>\n",
       "      <td>0</td>\n",
       "      <td>0</td>\n",
       "      <td>Oceania</td>\n",
       "      <td>NaN</td>\n",
       "      <td>NaN</td>\n",
       "      <td>25649909.0</td>\n",
       "      <td>0.0033</td>\n",
       "      <td>0.19</td>\n",
       "      <td>0.655</td>\n",
       "      <td>0.155</td>\n",
       "      <td>1.0</td>\n",
       "      <td>24.0</td>\n",
       "    </tr>\n",
       "    <tr>\n",
       "      <th>1</th>\n",
       "      <td>Australia</td>\n",
       "      <td>1/25/20</td>\n",
       "      <td>0</td>\n",
       "      <td>-24.502867</td>\n",
       "      <td>141.055589</td>\n",
       "      <td>0</td>\n",
       "      <td>0</td>\n",
       "      <td>Oceania</td>\n",
       "      <td>NaN</td>\n",
       "      <td>NaN</td>\n",
       "      <td>25649909.0</td>\n",
       "      <td>0.0033</td>\n",
       "      <td>0.19</td>\n",
       "      <td>0.655</td>\n",
       "      <td>0.155</td>\n",
       "      <td>1.0</td>\n",
       "      <td>25.0</td>\n",
       "    </tr>\n",
       "    <tr>\n",
       "      <th>2</th>\n",
       "      <td>Australia</td>\n",
       "      <td>1/26/20</td>\n",
       "      <td>4</td>\n",
       "      <td>-24.502867</td>\n",
       "      <td>141.055589</td>\n",
       "      <td>0</td>\n",
       "      <td>0</td>\n",
       "      <td>Oceania</td>\n",
       "      <td>NaN</td>\n",
       "      <td>NaN</td>\n",
       "      <td>25649909.0</td>\n",
       "      <td>0.0033</td>\n",
       "      <td>0.19</td>\n",
       "      <td>0.655</td>\n",
       "      <td>0.155</td>\n",
       "      <td>1.0</td>\n",
       "      <td>26.0</td>\n",
       "    </tr>\n",
       "    <tr>\n",
       "      <th>3</th>\n",
       "      <td>Australia</td>\n",
       "      <td>1/27/20</td>\n",
       "      <td>5</td>\n",
       "      <td>-24.502867</td>\n",
       "      <td>141.055589</td>\n",
       "      <td>0</td>\n",
       "      <td>0</td>\n",
       "      <td>Oceania</td>\n",
       "      <td>NaN</td>\n",
       "      <td>NaN</td>\n",
       "      <td>25649909.0</td>\n",
       "      <td>0.0033</td>\n",
       "      <td>0.19</td>\n",
       "      <td>0.655</td>\n",
       "      <td>0.155</td>\n",
       "      <td>1.0</td>\n",
       "      <td>27.0</td>\n",
       "    </tr>\n",
       "    <tr>\n",
       "      <th>4</th>\n",
       "      <td>Australia</td>\n",
       "      <td>1/28/20</td>\n",
       "      <td>5</td>\n",
       "      <td>-24.502867</td>\n",
       "      <td>141.055589</td>\n",
       "      <td>0</td>\n",
       "      <td>0</td>\n",
       "      <td>Oceania</td>\n",
       "      <td>NaN</td>\n",
       "      <td>NaN</td>\n",
       "      <td>25649909.0</td>\n",
       "      <td>0.0033</td>\n",
       "      <td>0.19</td>\n",
       "      <td>0.655</td>\n",
       "      <td>0.155</td>\n",
       "      <td>1.0</td>\n",
       "      <td>28.0</td>\n",
       "    </tr>\n",
       "  </tbody>\n",
       "</table>\n",
       "</div>"
      ],
      "text/plain": [
       "     country     date  infections        Lat        Long  deaths  recovered  \\\n",
       "0  Australia  1/24/20           0 -24.502867  141.055589       0          0   \n",
       "1  Australia  1/25/20           0 -24.502867  141.055589       0          0   \n",
       "2  Australia  1/26/20           4 -24.502867  141.055589       0          0   \n",
       "3  Australia  1/27/20           5 -24.502867  141.055589       0          0   \n",
       "4  Australia  1/28/20           5 -24.502867  141.055589       0          0   \n",
       "\n",
       "  Continent  bed_occupancy  ICU_beds  Population  population_world  \\\n",
       "0   Oceania            NaN       NaN  25649909.0            0.0033   \n",
       "1   Oceania            NaN       NaN  25649909.0            0.0033   \n",
       "2   Oceania            NaN       NaN  25649909.0            0.0033   \n",
       "3   Oceania            NaN       NaN  25649909.0            0.0033   \n",
       "4   Oceania            NaN       NaN  25649909.0            0.0033   \n",
       "\n",
       "   age_0_to_64  age_15_to_64  age_over_65  month   day  \n",
       "0         0.19         0.655        0.155    1.0  24.0  \n",
       "1         0.19         0.655        0.155    1.0  25.0  \n",
       "2         0.19         0.655        0.155    1.0  26.0  \n",
       "3         0.19         0.655        0.155    1.0  27.0  \n",
       "4         0.19         0.655        0.155    1.0  28.0  "
      ]
     },
     "execution_count": 4,
     "metadata": {},
     "output_type": "execute_result"
    }
   ],
   "source": [
    "data.head()"
   ]
  },
  {
   "cell_type": "code",
   "execution_count": 5,
   "metadata": {},
   "outputs": [
    {
     "data": {
      "text/plain": [
       "(1887, 17)"
      ]
     },
     "execution_count": 5,
     "metadata": {},
     "output_type": "execute_result"
    }
   ],
   "source": [
    "data.shape"
   ]
  },
  {
   "cell_type": "code",
   "execution_count": 6,
   "metadata": {},
   "outputs": [],
   "source": [
    "# add country as index\n",
    "data = data.set_index('country')"
   ]
  },
  {
   "cell_type": "code",
   "execution_count": 7,
   "metadata": {},
   "outputs": [],
   "source": [
    "# dummy encode the 'Continent' column\n",
    "data = pd.concat([data, pd.get_dummies(data['Continent'])], axis=1).drop('Continent', axis=1)"
   ]
  },
  {
   "cell_type": "code",
   "execution_count": 8,
   "metadata": {},
   "outputs": [],
   "source": [
    "# drop the date and population column \n",
    "dates = data.date\n",
    "data = data.drop(['date', 'Population', 'deaths', 'recovered', 'month', 'day'], axis=1)"
   ]
  },
  {
   "cell_type": "code",
   "execution_count": 9,
   "metadata": {},
   "outputs": [
    {
     "data": {
      "text/plain": [
       "<matplotlib.axes._subplots.AxesSubplot at 0x20130630f28>"
      ]
     },
     "execution_count": 9,
     "metadata": {},
     "output_type": "execute_result"
    },
    {
     "data": {
      "image/png": "[encoded data removed]",
      "text/plain": [
       "<Figure size 1080x720 with 2 Axes>"
      ]
     },
     "metadata": {
      "needs_background": "light"
     },
     "output_type": "display_data"
    }
   ],
   "source": [
    "# visualize correlations between columns\n",
    "fig, ax = plt.subplots(1, 1)\n",
    "fig.set_size_inches(15, 10)\n",
    "sns.heatmap(data.corr(), cmap='hot', ax=ax)"
   ]
  },
  {
   "cell_type": "code",
   "execution_count": 10,
   "metadata": {},
   "outputs": [],
   "source": [
    "# bed_occupancy and ICU_beds contain NaNs values\n",
    "# KNN impute both columns\n",
    "\n",
    "from sklearn.impute import KNNImputer\n",
    "imputer = KNNImputer(n_neighbors=3)"
   ]
  },
  {
   "cell_type": "code",
   "execution_count": 11,
   "metadata": {},
   "outputs": [
    {
     "data": {
      "text/plain": [
       "KNNImputer(add_indicator=False, copy=True, metric='nan_euclidean',\n",
       "           missing_values=nan, n_neighbors=3, weights='uniform')"
      ]
     },
     "execution_count": 11,
     "metadata": {},
     "output_type": "execute_result"
    }
   ],
   "source": [
    "imputer.fit(data)"
   ]
  },
  {
   "cell_type": "code",
   "execution_count": 12,
   "metadata": {},
   "outputs": [],
   "source": [
    "data = pd.DataFrame(imputer.transform(data), columns=data.columns, index=data.index)"
   ]
  },
  {
   "cell_type": "code",
   "execution_count": 13,
   "metadata": {},
   "outputs": [
    {
     "data": {
      "text/html": [
       "<div>\n",
       "<style scoped>\n",
       "    .dataframe tbody tr th:only-of-type {\n",
       "        vertical-align: middle;\n",
       "    }\n",
       "\n",
       "    .dataframe tbody tr th {\n",
       "        vertical-align: top;\n",
       "    }\n",
       "\n",
       "    .dataframe thead th {\n",
       "        text-align: right;\n",
       "    }\n",
       "</style>\n",
       "<table border=\"1\" class=\"dataframe\">\n",
       "  <thead>\n",
       "    <tr style=\"text-align: right;\">\n",
       "      <th></th>\n",
       "      <th>infections</th>\n",
       "      <th>Lat</th>\n",
       "      <th>Long</th>\n",
       "      <th>bed_occupancy</th>\n",
       "      <th>ICU_beds</th>\n",
       "      <th>population_world</th>\n",
       "      <th>age_0_to_64</th>\n",
       "      <th>age_15_to_64</th>\n",
       "      <th>age_over_65</th>\n",
       "      <th>Asia</th>\n",
       "      <th>Europe</th>\n",
       "      <th>North America</th>\n",
       "      <th>Oceania</th>\n",
       "      <th>South America</th>\n",
       "    </tr>\n",
       "    <tr>\n",
       "      <th>country</th>\n",
       "      <th></th>\n",
       "      <th></th>\n",
       "      <th></th>\n",
       "      <th></th>\n",
       "      <th></th>\n",
       "      <th></th>\n",
       "      <th></th>\n",
       "      <th></th>\n",
       "      <th></th>\n",
       "      <th></th>\n",
       "      <th></th>\n",
       "      <th></th>\n",
       "      <th></th>\n",
       "      <th></th>\n",
       "    </tr>\n",
       "  </thead>\n",
       "  <tbody>\n",
       "    <tr>\n",
       "      <th>Australia</th>\n",
       "      <td>0.0</td>\n",
       "      <td>-24.502867</td>\n",
       "      <td>141.055589</td>\n",
       "      <td>0.755</td>\n",
       "      <td>46.0</td>\n",
       "      <td>0.0033</td>\n",
       "      <td>0.19</td>\n",
       "      <td>0.655</td>\n",
       "      <td>0.155</td>\n",
       "      <td>0.0</td>\n",
       "      <td>0.0</td>\n",
       "      <td>0.0</td>\n",
       "      <td>1.0</td>\n",
       "      <td>0.0</td>\n",
       "    </tr>\n",
       "    <tr>\n",
       "      <th>Australia</th>\n",
       "      <td>0.0</td>\n",
       "      <td>-24.502867</td>\n",
       "      <td>141.055589</td>\n",
       "      <td>0.755</td>\n",
       "      <td>46.0</td>\n",
       "      <td>0.0033</td>\n",
       "      <td>0.19</td>\n",
       "      <td>0.655</td>\n",
       "      <td>0.155</td>\n",
       "      <td>0.0</td>\n",
       "      <td>0.0</td>\n",
       "      <td>0.0</td>\n",
       "      <td>1.0</td>\n",
       "      <td>0.0</td>\n",
       "    </tr>\n",
       "    <tr>\n",
       "      <th>Australia</th>\n",
       "      <td>4.0</td>\n",
       "      <td>-24.502867</td>\n",
       "      <td>141.055589</td>\n",
       "      <td>0.755</td>\n",
       "      <td>46.0</td>\n",
       "      <td>0.0033</td>\n",
       "      <td>0.19</td>\n",
       "      <td>0.655</td>\n",
       "      <td>0.155</td>\n",
       "      <td>0.0</td>\n",
       "      <td>0.0</td>\n",
       "      <td>0.0</td>\n",
       "      <td>1.0</td>\n",
       "      <td>0.0</td>\n",
       "    </tr>\n",
       "    <tr>\n",
       "      <th>Australia</th>\n",
       "      <td>5.0</td>\n",
       "      <td>-24.502867</td>\n",
       "      <td>141.055589</td>\n",
       "      <td>0.755</td>\n",
       "      <td>46.0</td>\n",
       "      <td>0.0033</td>\n",
       "      <td>0.19</td>\n",
       "      <td>0.655</td>\n",
       "      <td>0.155</td>\n",
       "      <td>0.0</td>\n",
       "      <td>0.0</td>\n",
       "      <td>0.0</td>\n",
       "      <td>1.0</td>\n",
       "      <td>0.0</td>\n",
       "    </tr>\n",
       "    <tr>\n",
       "      <th>Australia</th>\n",
       "      <td>5.0</td>\n",
       "      <td>-24.502867</td>\n",
       "      <td>141.055589</td>\n",
       "      <td>0.755</td>\n",
       "      <td>46.0</td>\n",
       "      <td>0.0033</td>\n",
       "      <td>0.19</td>\n",
       "      <td>0.655</td>\n",
       "      <td>0.155</td>\n",
       "      <td>0.0</td>\n",
       "      <td>0.0</td>\n",
       "      <td>0.0</td>\n",
       "      <td>1.0</td>\n",
       "      <td>0.0</td>\n",
       "    </tr>\n",
       "  </tbody>\n",
       "</table>\n",
       "</div>"
      ],
      "text/plain": [
       "           infections        Lat        Long  bed_occupancy  ICU_beds  \\\n",
       "country                                                                 \n",
       "Australia         0.0 -24.502867  141.055589          0.755      46.0   \n",
       "Australia         0.0 -24.502867  141.055589          0.755      46.0   \n",
       "Australia         4.0 -24.502867  141.055589          0.755      46.0   \n",
       "Australia         5.0 -24.502867  141.055589          0.755      46.0   \n",
       "Australia         5.0 -24.502867  141.055589          0.755      46.0   \n",
       "\n",
       "           population_world  age_0_to_64  age_15_to_64  age_over_65  Asia  \\\n",
       "country                                                                     \n",
       "Australia            0.0033         0.19         0.655        0.155   0.0   \n",
       "Australia            0.0033         0.19         0.655        0.155   0.0   \n",
       "Australia            0.0033         0.19         0.655        0.155   0.0   \n",
       "Australia            0.0033         0.19         0.655        0.155   0.0   \n",
       "Australia            0.0033         0.19         0.655        0.155   0.0   \n",
       "\n",
       "           Europe  North America  Oceania  South America  \n",
       "country                                                   \n",
       "Australia     0.0            0.0      1.0            0.0  \n",
       "Australia     0.0            0.0      1.0            0.0  \n",
       "Australia     0.0            0.0      1.0            0.0  \n",
       "Australia     0.0            0.0      1.0            0.0  \n",
       "Australia     0.0            0.0      1.0            0.0  "
      ]
     },
     "execution_count": 13,
     "metadata": {},
     "output_type": "execute_result"
    }
   ],
   "source": [
    "# set country as index\n",
    "data.head()"
   ]
  },
  {
   "cell_type": "code",
   "execution_count": 14,
   "metadata": {},
   "outputs": [],
   "source": [
    "# use Netherlands as test data series and Belgium as validation series\n",
    "data_nl = data[data.index == \"Netherlands\"]\n",
    "data_bel = data[data.index == \"Belgium\"]"
   ]
  },
  {
   "cell_type": "code",
   "execution_count": 15,
   "metadata": {},
   "outputs": [],
   "source": [
    "# drop test and validation data from train data\n",
    "data = data.drop(['Netherlands', 'Belgium'])"
   ]
  },
  {
   "cell_type": "code",
   "execution_count": 16,
   "metadata": {},
   "outputs": [
    {
     "data": {
      "text/html": [
       "<div>\n",
       "<style scoped>\n",
       "    .dataframe tbody tr th:only-of-type {\n",
       "        vertical-align: middle;\n",
       "    }\n",
       "\n",
       "    .dataframe tbody tr th {\n",
       "        vertical-align: top;\n",
       "    }\n",
       "\n",
       "    .dataframe thead th {\n",
       "        text-align: right;\n",
       "    }\n",
       "</style>\n",
       "<table border=\"1\" class=\"dataframe\">\n",
       "  <thead>\n",
       "    <tr style=\"text-align: right;\">\n",
       "      <th></th>\n",
       "      <th>infections</th>\n",
       "      <th>Lat</th>\n",
       "      <th>Long</th>\n",
       "      <th>bed_occupancy</th>\n",
       "      <th>ICU_beds</th>\n",
       "      <th>population_world</th>\n",
       "      <th>age_0_to_64</th>\n",
       "      <th>age_15_to_64</th>\n",
       "      <th>age_over_65</th>\n",
       "      <th>Asia</th>\n",
       "      <th>Europe</th>\n",
       "      <th>North America</th>\n",
       "      <th>Oceania</th>\n",
       "      <th>South America</th>\n",
       "    </tr>\n",
       "    <tr>\n",
       "      <th>country</th>\n",
       "      <th></th>\n",
       "      <th></th>\n",
       "      <th></th>\n",
       "      <th></th>\n",
       "      <th></th>\n",
       "      <th></th>\n",
       "      <th></th>\n",
       "      <th></th>\n",
       "      <th></th>\n",
       "      <th></th>\n",
       "      <th></th>\n",
       "      <th></th>\n",
       "      <th></th>\n",
       "      <th></th>\n",
       "    </tr>\n",
       "  </thead>\n",
       "  <tbody>\n",
       "    <tr>\n",
       "      <th>Netherlands</th>\n",
       "      <td>0.0</td>\n",
       "      <td>52.1326</td>\n",
       "      <td>5.2913</td>\n",
       "      <td>0.654</td>\n",
       "      <td>6.4</td>\n",
       "      <td>0.00224</td>\n",
       "      <td>0.164</td>\n",
       "      <td>0.648</td>\n",
       "      <td>0.188</td>\n",
       "      <td>0.0</td>\n",
       "      <td>1.0</td>\n",
       "      <td>0.0</td>\n",
       "      <td>0.0</td>\n",
       "      <td>0.0</td>\n",
       "    </tr>\n",
       "    <tr>\n",
       "      <th>Netherlands</th>\n",
       "      <td>0.0</td>\n",
       "      <td>52.1326</td>\n",
       "      <td>5.2913</td>\n",
       "      <td>0.654</td>\n",
       "      <td>6.4</td>\n",
       "      <td>0.00224</td>\n",
       "      <td>0.164</td>\n",
       "      <td>0.648</td>\n",
       "      <td>0.188</td>\n",
       "      <td>0.0</td>\n",
       "      <td>1.0</td>\n",
       "      <td>0.0</td>\n",
       "      <td>0.0</td>\n",
       "      <td>0.0</td>\n",
       "    </tr>\n",
       "    <tr>\n",
       "      <th>Netherlands</th>\n",
       "      <td>0.0</td>\n",
       "      <td>52.1326</td>\n",
       "      <td>5.2913</td>\n",
       "      <td>0.654</td>\n",
       "      <td>6.4</td>\n",
       "      <td>0.00224</td>\n",
       "      <td>0.164</td>\n",
       "      <td>0.648</td>\n",
       "      <td>0.188</td>\n",
       "      <td>0.0</td>\n",
       "      <td>1.0</td>\n",
       "      <td>0.0</td>\n",
       "      <td>0.0</td>\n",
       "      <td>0.0</td>\n",
       "    </tr>\n",
       "    <tr>\n",
       "      <th>Netherlands</th>\n",
       "      <td>0.0</td>\n",
       "      <td>52.1326</td>\n",
       "      <td>5.2913</td>\n",
       "      <td>0.654</td>\n",
       "      <td>6.4</td>\n",
       "      <td>0.00224</td>\n",
       "      <td>0.164</td>\n",
       "      <td>0.648</td>\n",
       "      <td>0.188</td>\n",
       "      <td>0.0</td>\n",
       "      <td>1.0</td>\n",
       "      <td>0.0</td>\n",
       "      <td>0.0</td>\n",
       "      <td>0.0</td>\n",
       "    </tr>\n",
       "    <tr>\n",
       "      <th>Netherlands</th>\n",
       "      <td>0.0</td>\n",
       "      <td>52.1326</td>\n",
       "      <td>5.2913</td>\n",
       "      <td>0.654</td>\n",
       "      <td>6.4</td>\n",
       "      <td>0.00224</td>\n",
       "      <td>0.164</td>\n",
       "      <td>0.648</td>\n",
       "      <td>0.188</td>\n",
       "      <td>0.0</td>\n",
       "      <td>1.0</td>\n",
       "      <td>0.0</td>\n",
       "      <td>0.0</td>\n",
       "      <td>0.0</td>\n",
       "    </tr>\n",
       "  </tbody>\n",
       "</table>\n",
       "</div>"
      ],
      "text/plain": [
       "             infections      Lat    Long  bed_occupancy  ICU_beds  \\\n",
       "country                                                             \n",
       "Netherlands         0.0  52.1326  5.2913          0.654       6.4   \n",
       "Netherlands         0.0  52.1326  5.2913          0.654       6.4   \n",
       "Netherlands         0.0  52.1326  5.2913          0.654       6.4   \n",
       "Netherlands         0.0  52.1326  5.2913          0.654       6.4   \n",
       "Netherlands         0.0  52.1326  5.2913          0.654       6.4   \n",
       "\n",
       "             population_world  age_0_to_64  age_15_to_64  age_over_65  Asia  \\\n",
       "country                                                                       \n",
       "Netherlands           0.00224        0.164         0.648        0.188   0.0   \n",
       "Netherlands           0.00224        0.164         0.648        0.188   0.0   \n",
       "Netherlands           0.00224        0.164         0.648        0.188   0.0   \n",
       "Netherlands           0.00224        0.164         0.648        0.188   0.0   \n",
       "Netherlands           0.00224        0.164         0.648        0.188   0.0   \n",
       "\n",
       "             Europe  North America  Oceania  South America  \n",
       "country                                                     \n",
       "Netherlands     1.0            0.0      0.0            0.0  \n",
       "Netherlands     1.0            0.0      0.0            0.0  \n",
       "Netherlands     1.0            0.0      0.0            0.0  \n",
       "Netherlands     1.0            0.0      0.0            0.0  \n",
       "Netherlands     1.0            0.0      0.0            0.0  "
      ]
     },
     "execution_count": 16,
     "metadata": {},
     "output_type": "execute_result"
    }
   ],
   "source": [
    "data_nl.head()"
   ]
  },
  {
   "cell_type": "code",
   "execution_count": 17,
   "metadata": {},
   "outputs": [],
   "source": [
    "n_countries = 35\n",
    "n_timesteps = 51\n",
    "n_features = len(data.columns)"
   ]
  },
  {
   "cell_type": "code",
   "execution_count": 18,
   "metadata": {},
   "outputs": [
    {
     "data": {
      "text/plain": [
       "'South America'"
      ]
     },
     "execution_count": 18,
     "metadata": {},
     "output_type": "execute_result"
    }
   ],
   "source": [
    "data.columns[13]"
   ]
  },
  {
   "cell_type": "code",
   "execution_count": 19,
   "metadata": {},
   "outputs": [],
   "source": [
    "# create the labels by shifting the 'infections' column to the left\n",
    "# make sure to create labels before scaling the data!\n",
    "y_train = data.values[:, 0].copy()\n",
    "y_val = data_bel.values[:, 0].copy()\n",
    "y_test = data_nl.values[:, 0].copy()"
   ]
  },
  {
   "cell_type": "code",
   "execution_count": 20,
   "metadata": {},
   "outputs": [],
   "source": [
    "from sklearn.preprocessing import StandardScaler, MinMaxScaler\n",
    "\n",
    "def scale_partially(data, columns_to_scale, columns_to_skip, scaler):\n",
    "    data_to_scale = data[columns_to_scale]\n",
    "    data_to_skip = data[columns_to_skip]\n",
    "    \n",
    "    data_to_scale = scaler.transform(data_to_scale)\n",
    "    data = np.concatenate([data_to_scale, data_to_skip], axis=1)\n",
    "    \n",
    "    return data\n",
    "    \n",
    "def fit_partially(data, columns_to_scale, columns_to_skip, scaler):   \n",
    "    data_to_scale = data[columns_to_scale]\n",
    "    data_to_skip = data[columns_to_skip]  \n",
    "    scaler.fit(data_to_scale)\n",
    "    \n",
    "    return scaler\n",
    "    \n",
    "    "
   ]
  },
  {
   "cell_type": "code",
   "execution_count": 21,
   "metadata": {},
   "outputs": [],
   "source": [
    "# create scaler and fit on training data\n",
    "#scaler = StandardScaler()\n",
    "scaler = MinMaxScaler()\n"
   ]
  },
  {
   "cell_type": "code",
   "execution_count": 22,
   "metadata": {},
   "outputs": [
    {
     "data": {
      "text/plain": [
       "Index(['infections', 'Lat', 'Long', 'bed_occupancy', 'ICU_beds',\n",
       "       'population_world', 'age_0_to_64', 'age_15_to_64', 'age_over_65',\n",
       "       'Asia', 'Europe', 'North America', 'Oceania', 'South America'],\n",
       "      dtype='object')"
      ]
     },
     "execution_count": 22,
     "metadata": {},
     "output_type": "execute_result"
    }
   ],
   "source": [
    "data.columns"
   ]
  },
  {
   "cell_type": "code",
   "execution_count": 23,
   "metadata": {},
   "outputs": [],
   "source": [
    "columns_to_scale = ['Lat', \n",
    "                   'Long'\n",
    "                   ]\n",
    "\n",
    "columns_to_skip=[#'month',\n",
    "                 # 'day',\n",
    "                  'infections',\n",
    "                  #'deaths',\n",
    "                  #'recovered',\n",
    "                   'bed_occupancy',\n",
    "                   'ICU_beds',\n",
    "                   'population_world',\n",
    "                   'age_0_to_64',\n",
    "                   'age_15_to_64', \n",
    "                   'age_over_65',\n",
    "                   'Asia',\n",
    "                   'Europe',\n",
    "                   'North America',\n",
    "                   'Oceania',\n",
    "                   'South America']"
   ]
  },
  {
   "cell_type": "code",
   "execution_count": 24,
   "metadata": {},
   "outputs": [],
   "source": [
    "# fit the scaler\n",
    "scaler = fit_partially(data, \n",
    "                       columns_to_scale=columns_to_scale,\n",
    "                       columns_to_skip=columns_to_skip,\n",
    "                       scaler=scaler)                                      "
   ]
  },
  {
   "cell_type": "code",
   "execution_count": 25,
   "metadata": {},
   "outputs": [],
   "source": [
    "# scale all data\n",
    "data = scale_partially(data, \n",
    "                       columns_to_scale=columns_to_scale,\n",
    "                       columns_to_skip=columns_to_skip,\n",
    "                       scaler=scaler)   \n",
    "\n",
    "data_bel = scale_partially(data_bel, \n",
    "                       columns_to_scale=columns_to_scale,\n",
    "                       columns_to_skip=columns_to_skip,\n",
    "                       scaler=scaler)   \n",
    "\n",
    "data_nl = scale_partially(data_nl, \n",
    "                       columns_to_scale=columns_to_scale,\n",
    "                       columns_to_skip=columns_to_skip,\n",
    "                       scaler=scaler)     "
   ]
  },
  {
   "cell_type": "code",
   "execution_count": null,
   "metadata": {},
   "outputs": [],
   "source": []
  },
  {
   "cell_type": "code",
   "execution_count": 26,
   "metadata": {},
   "outputs": [],
   "source": [
    "# add original infections back to data\n",
    "#data[:, 0] = y_train\n",
    "#data_bel[:, 0] = y_val\n",
    "#data_nl[:, 0] = y_test"
   ]
  },
  {
   "cell_type": "code",
   "execution_count": 27,
   "metadata": {},
   "outputs": [],
   "source": [
    "#data = data.values\n",
    "#data_bel = data_bel.values\n",
    "#data_nl = data_nl.values"
   ]
  },
  {
   "cell_type": "code",
   "execution_count": 28,
   "metadata": {},
   "outputs": [],
   "source": [
    "# reshape data to appropriate 3D timeseries data\n",
    "x_train = np.reshape(data, (n_countries, n_timesteps, n_features))"
   ]
  },
  {
   "cell_type": "code",
   "execution_count": 29,
   "metadata": {},
   "outputs": [],
   "source": [
    "x_val = np.reshape(data_bel, (1, n_timesteps, n_features))\n",
    "x_test = np.reshape(data_nl, (1, n_timesteps, n_features))"
   ]
  },
  {
   "cell_type": "code",
   "execution_count": 30,
   "metadata": {},
   "outputs": [],
   "source": [
    "# reshape labels according to the data\n",
    "y_train = np.reshape(y_train, (x_train.shape[0], x_train.shape[1], 1))\n",
    "y_val = np.reshape(y_val, (x_val.shape[0], x_val.shape[1], 1))\n",
    "y_test = np.reshape(y_test, (x_test.shape[0], x_test.shape[1], 1))"
   ]
  },
  {
   "cell_type": "code",
   "execution_count": 31,
   "metadata": {},
   "outputs": [],
   "source": [
    "# to shift to left, remove first element\n",
    "y_train = y_train[:, 1:]\n",
    "y_val = y_val[:, 1:]\n",
    "y_test = y_test[:, 1:]\n",
    "\n",
    "# add outer dimension to match dimensionality of data\n",
    "#y_train = np.expand_dims(y_train, axis=2)\n",
    "#y_val = np.expand_dims(y_val, axis=2)\n",
    "#y_test = np.expand_dims(y_test, axis=2)"
   ]
  },
  {
   "cell_type": "code",
   "execution_count": 32,
   "metadata": {},
   "outputs": [],
   "source": [
    "# shift data to right by removing final timestep\n",
    "x_train = x_train[:, :-1]\n",
    "x_val = x_val[:, :-1]\n",
    "x_test = x_test[:, :-1]"
   ]
  },
  {
   "cell_type": "code",
   "execution_count": 33,
   "metadata": {},
   "outputs": [
    {
     "data": {
      "text/plain": [
       "((35, 50, 14), (1, 50, 14), (1, 50, 14))"
      ]
     },
     "execution_count": 33,
     "metadata": {},
     "output_type": "execute_result"
    }
   ],
   "source": [
    "x_train.shape, x_val.shape, x_test.shape"
   ]
  },
  {
   "cell_type": "code",
   "execution_count": 34,
   "metadata": {},
   "outputs": [
    {
     "data": {
      "text/plain": [
       "((35, 50, 1), (1, 50, 1), (1, 50, 1))"
      ]
     },
     "execution_count": 34,
     "metadata": {},
     "output_type": "execute_result"
    }
   ],
   "source": [
    "y_train.shape, y_val.shape, y_test.shape"
   ]
  },
  {
   "cell_type": "code",
   "execution_count": 35,
   "metadata": {},
   "outputs": [
    {
     "name": "stderr",
     "output_type": "stream",
     "text": [
      "d:\\anaconda\\envs\\tf\\lib\\site-packages\\tensorflow\\python\\framework\\dtypes.py:523: FutureWarning: Passing (type, 1) or '1type' as a synonym of type is deprecated; in a future version of numpy, it will be understood as (type, (1,)) / '(1,)type'.\n",
      "  _np_qint8 = np.dtype([(\"qint8\", np.int8, 1)])\n",
      "d:\\anaconda\\envs\\tf\\lib\\site-packages\\tensorflow\\python\\framework\\dtypes.py:524: FutureWarning: Passing (type, 1) or '1type' as a synonym of type is deprecated; in a future version of numpy, it will be understood as (type, (1,)) / '(1,)type'.\n",
      "  _np_quint8 = np.dtype([(\"quint8\", np.uint8, 1)])\n",
      "d:\\anaconda\\envs\\tf\\lib\\site-packages\\tensorflow\\python\\framework\\dtypes.py:525: FutureWarning: Passing (type, 1) or '1type' as a synonym of type is deprecated; in a future version of numpy, it will be understood as (type, (1,)) / '(1,)type'.\n",
      "  _np_qint16 = np.dtype([(\"qint16\", np.int16, 1)])\n",
      "d:\\anaconda\\envs\\tf\\lib\\site-packages\\tensorflow\\python\\framework\\dtypes.py:526: FutureWarning: Passing (type, 1) or '1type' as a synonym of type is deprecated; in a future version of numpy, it will be understood as (type, (1,)) / '(1,)type'.\n",
      "  _np_quint16 = np.dtype([(\"quint16\", np.uint16, 1)])\n",
      "d:\\anaconda\\envs\\tf\\lib\\site-packages\\tensorflow\\python\\framework\\dtypes.py:527: FutureWarning: Passing (type, 1) or '1type' as a synonym of type is deprecated; in a future version of numpy, it will be understood as (type, (1,)) / '(1,)type'.\n",
      "  _np_qint32 = np.dtype([(\"qint32\", np.int32, 1)])\n",
      "d:\\anaconda\\envs\\tf\\lib\\site-packages\\tensorflow\\python\\framework\\dtypes.py:532: FutureWarning: Passing (type, 1) or '1type' as a synonym of type is deprecated; in a future version of numpy, it will be understood as (type, (1,)) / '(1,)type'.\n",
      "  np_resource = np.dtype([(\"resource\", np.ubyte, 1)])\n"
     ]
    }
   ],
   "source": [
    "import tensorflow.keras as keras\n",
    "# build and return a simple LSTM autoencoder in Keras\n",
    "def build_model(n_features, embedding_size, learning_rate):\n",
    "    # the input to the LSTM is a mini-batch (None) of a certain sequence length (50) of n_features (18)\n",
    "    input_layer = keras.layers.Input(shape=(None, n_features))\n",
    "    # return sequence of LSTM states\n",
    "    hidden_sequences = keras.layers.LSTM(units=embedding_size, return_sequences=True)(input_layer)\n",
    "    #hidden_sequences = keras.layers.SimpleRNN(units=embedding_size, return_sequences=True)(input_layer)\n",
    "    \n",
    "    # Output layer is 1 neuron for regression\n",
    "    output_layer = keras.layers.Dense(units=1, activation='linear')(hidden_sequences)\n",
    "    model = keras.Model(inputs=input_layer, outputs=output_layer)\n",
    "    model.compile(optimizer=keras.optimizers.Adam(lr=learning_rate), loss=\"MSE\")\n",
    "    \n",
    "    return model"
   ]
  },
  {
   "cell_type": "code",
   "execution_count": 36,
   "metadata": {},
   "outputs": [],
   "source": [
    "model = build_model(n_features, embedding_size=250, learning_rate=0.02)"
   ]
  },
  {
   "cell_type": "code",
   "execution_count": 37,
   "metadata": {
    "scrolled": true
   },
   "outputs": [
    {
     "name": "stdout",
     "output_type": "stream",
     "text": [
      "Train on 35 samples, validate on 1 samples\n",
      "Epoch 1/10000\n",
      "35/35 [==============================] - 5s 149ms/step - loss: 114210784.0000 - val_loss: 23559.8516\n",
      "Epoch 2/10000\n",
      "35/35 [==============================] - 0s 7ms/step - loss: 114202040.0000 - val_loss: 23100.3516\n",
      "Epoch 3/10000\n",
      "35/35 [==============================] - 0s 7ms/step - loss: 114189984.0000 - val_loss: 22721.9004\n",
      "Epoch 4/10000\n",
      "35/35 [==============================] - 0s 8ms/step - loss: 114181552.0000 - val_loss: 22393.1699\n",
      "Epoch 5/10000\n",
      "35/35 [==============================] - 0s 7ms/step - loss: 114172376.0000 - val_loss: 22133.2598\n",
      "Epoch 6/10000\n",
      "35/35 [==============================] - 0s 7ms/step - loss: 114159312.0000 - val_loss: 21871.6270\n",
      "Epoch 7/10000\n",
      "35/35 [==============================] - 0s 7ms/step - loss: 114150824.0000 - val_loss: 21613.2559\n",
      "Epoch 8/10000\n",
      "35/35 [==============================] - 0s 6ms/step - loss: 114143872.0000 - val_loss: 21359.3398\n",
      "Epoch 9/10000\n",
      "35/35 [==============================] - 0s 6ms/step - loss: 114135576.0000 - val_loss: 21087.9648\n",
      "Epoch 10/10000\n",
      "35/35 [==============================] - 0s 6ms/step - loss: 114127008.0000 - val_loss: 20827.6289\n",
      "Epoch 11/10000\n",
      "35/35 [==============================] - 0s 7ms/step - loss: 114116880.0000 - val_loss: 20563.0605\n",
      "Epoch 12/10000\n",
      "35/35 [==============================] - 0s 7ms/step - loss: 114108696.0000 - val_loss: 20298.3262\n",
      "Epoch 13/10000\n",
      "35/35 [==============================] - 0s 6ms/step - loss: 114100192.0000 - val_loss: 20030.5469\n",
      "Epoch 14/10000\n",
      "35/35 [==============================] - 0s 7ms/step - loss: 114091960.0000 - val_loss: 19754.6504\n",
      "Epoch 15/10000\n",
      "35/35 [==============================] - 0s 7ms/step - loss: 114081704.0000 - val_loss: 19472.8867\n",
      "Epoch 16/10000\n",
      "35/35 [==============================] - 0s 7ms/step - loss: 114072792.0000 - val_loss: 19195.9902\n",
      "Epoch 17/10000\n",
      "35/35 [==============================] - 0s 7ms/step - loss: 114064744.0000 - val_loss: 18915.0293\n",
      "Epoch 18/10000\n",
      "35/35 [==============================] - 0s 7ms/step - loss: 114054232.0000 - val_loss: 18638.3965\n",
      "Epoch 19/10000\n",
      "35/35 [==============================] - 0s 6ms/step - loss: 114045440.0000 - val_loss: 18367.4492\n",
      "Epoch 20/10000\n",
      "35/35 [==============================] - 0s 6ms/step - loss: 114036608.0000 - val_loss: 18098.4980\n",
      "Epoch 21/10000\n",
      "35/35 [==============================] - 0s 6ms/step - loss: 114026792.0000 - val_loss: 17830.5820\n",
      "Epoch 22/10000\n",
      "35/35 [==============================] - 0s 6ms/step - loss: 114017592.0000 - val_loss: 17560.6914\n",
      "Epoch 23/10000\n",
      "35/35 [==============================] - 0s 6ms/step - loss: 114008896.0000 - val_loss: 17290.9766\n",
      "Epoch 24/10000\n",
      "35/35 [==============================] - 0s 6ms/step - loss: 113999464.0000 - val_loss: 17027.9082\n",
      "Epoch 25/10000\n",
      "35/35 [==============================] - 0s 7ms/step - loss: 113990320.0000 - val_loss: 16765.1445\n",
      "Epoch 26/10000\n",
      "35/35 [==============================] - 0s 6ms/step - loss: 113981144.0000 - val_loss: 16507.3418\n",
      "Epoch 27/10000\n",
      "35/35 [==============================] - 0s 7ms/step - loss: 113971968.0000 - val_loss: 16250.0576\n",
      "Epoch 28/10000\n",
      "35/35 [==============================] - 0s 7ms/step - loss: 113962728.0000 - val_loss: 15999.5029\n",
      "Epoch 29/10000\n",
      "35/35 [==============================] - 0s 7ms/step - loss: 113953552.0000 - val_loss: 15748.4883\n",
      "Epoch 30/10000\n",
      "35/35 [==============================] - 0s 6ms/step - loss: 113944816.0000 - val_loss: 15502.3242\n",
      "Epoch 31/10000\n",
      "35/35 [==============================] - 0s 6ms/step - loss: 113935064.0000 - val_loss: 15259.3633\n",
      "Epoch 32/10000\n",
      "35/35 [==============================] - 0s 6ms/step - loss: 113925824.0000 - val_loss: 15020.2734\n",
      "Epoch 33/10000\n",
      "35/35 [==============================] - 0s 7ms/step - loss: 113916576.0000 - val_loss: 14778.6689\n",
      "Epoch 34/10000\n",
      "35/35 [==============================] - 0s 7ms/step - loss: 113907320.0000 - val_loss: 14545.7070\n",
      "Epoch 35/10000\n",
      "35/35 [==============================] - 0s 6ms/step - loss: 113898008.0000 - val_loss: 14316.3662\n",
      "Epoch 36/10000\n",
      "35/35 [==============================] - 0s 6ms/step - loss: 113888784.0000 - val_loss: 14090.3936\n",
      "Epoch 37/10000\n",
      "35/35 [==============================] - 0s 6ms/step - loss: 113879536.0000 - val_loss: 13855.4541\n",
      "Epoch 38/10000\n",
      "35/35 [==============================] - 0s 6ms/step - loss: 113870304.0000 - val_loss: 13630.8779\n",
      "Epoch 39/10000\n",
      "35/35 [==============================] - 0s 7ms/step - loss: 113861088.0000 - val_loss: 13410.8320\n",
      "Epoch 40/10000\n",
      "35/35 [==============================] - 0s 7ms/step - loss: 113851872.0000 - val_loss: 13197.0273\n",
      "Epoch 41/10000\n",
      "35/35 [==============================] - 0s 8ms/step - loss: 113842064.0000 - val_loss: 12983.1465\n",
      "Epoch 42/10000\n",
      "35/35 [==============================] - 0s 7ms/step - loss: 113832744.0000 - val_loss: 12762.3408\n",
      "Epoch 43/10000\n",
      "35/35 [==============================] - 0s 7ms/step - loss: 113821816.0000 - val_loss: 12552.1836\n",
      "Epoch 44/10000\n",
      "35/35 [==============================] - 0s 8ms/step - loss: 113812592.0000 - val_loss: 12344.0459\n",
      "Epoch 45/10000\n",
      "35/35 [==============================] - 0s 8ms/step - loss: 113803344.0000 - val_loss: 12138.3047\n",
      "Epoch 46/10000\n",
      "35/35 [==============================] - 0s 7ms/step - loss: 113794088.0000 - val_loss: 11936.7422\n",
      "Epoch 47/10000\n",
      "35/35 [==============================] - 0s 6ms/step - loss: 113784872.0000 - val_loss: 11740.2012\n",
      "Epoch 48/10000\n",
      "35/35 [==============================] - 0s 7ms/step - loss: 113775616.0000 - val_loss: 11545.8086\n",
      "Epoch 49/10000\n",
      "35/35 [==============================] - 0s 6ms/step - loss: 113766392.0000 - val_loss: 11354.6572\n",
      "Epoch 50/10000\n",
      "35/35 [==============================] - 0s 6ms/step - loss: 113757184.0000 - val_loss: 11168.0215\n",
      "Epoch 51/10000\n",
      "35/35 [==============================] - 0s 6ms/step - loss: 113747952.0000 - val_loss: 10983.3447\n",
      "Epoch 52/10000\n",
      "35/35 [==============================] - 0s 6ms/step - loss: 113738728.0000 - val_loss: 10800.6514\n",
      "Epoch 53/10000\n",
      "35/35 [==============================] - 0s 8ms/step - loss: 113729520.0000 - val_loss: 10619.8877\n",
      "Epoch 54/10000\n",
      "35/35 [==============================] - 0s 7ms/step - loss: 113720344.0000 - val_loss: 10442.8154\n",
      "Epoch 55/10000\n",
      "35/35 [==============================] - 0s 6ms/step - loss: 113711160.0000 - val_loss: 10268.1895\n",
      "Epoch 56/10000\n",
      "35/35 [==============================] - 0s 6ms/step - loss: 113701976.0000 - val_loss: 10094.8848\n",
      "Epoch 57/10000\n",
      "35/35 [==============================] - 0s 7ms/step - loss: 113692816.0000 - val_loss: 9924.1631\n",
      "Epoch 58/10000\n",
      "35/35 [==============================] - 0s 6ms/step - loss: 113683640.0000 - val_loss: 9756.4727\n",
      "Epoch 59/10000\n",
      "35/35 [==============================] - 0s 6ms/step - loss: 113674480.0000 - val_loss: 9592.7217\n",
      "Epoch 60/10000\n",
      "35/35 [==============================] - 0s 7ms/step - loss: 113665336.0000 - val_loss: 9431.4785\n",
      "Epoch 61/10000\n",
      "35/35 [==============================] - 0s 6ms/step - loss: 113656216.0000 - val_loss: 9274.2178\n",
      "Epoch 62/10000\n",
      "35/35 [==============================] - 0s 7ms/step - loss: 113647064.0000 - val_loss: 9119.4014\n",
      "Epoch 63/10000\n",
      "35/35 [==============================] - 0s 6ms/step - loss: 113637952.0000 - val_loss: 8966.7197\n",
      "Epoch 64/10000\n",
      "35/35 [==============================] - 0s 6ms/step - loss: 113628848.0000 - val_loss: 8816.0166\n",
      "Epoch 65/10000\n",
      "35/35 [==============================] - 0s 6ms/step - loss: 113620864.0000 - val_loss: 8667.6836\n",
      "Epoch 66/10000\n",
      "35/35 [==============================] - 0s 6ms/step - loss: 113610656.0000 - val_loss: 8521.6152\n",
      "Epoch 67/10000\n",
      "35/35 [==============================] - 0s 6ms/step - loss: 113601560.0000 - val_loss: 8376.5469\n",
      "Epoch 68/10000\n",
      "35/35 [==============================] - 0s 6ms/step - loss: 113592480.0000 - val_loss: 8236.1797\n",
      "Epoch 69/10000\n",
      "35/35 [==============================] - 0s 6ms/step - loss: 113583400.0000 - val_loss: 8098.4561\n",
      "Epoch 70/10000\n",
      "35/35 [==============================] - 0s 6ms/step - loss: 113574352.0000 - val_loss: 7963.6646\n",
      "Epoch 71/10000\n",
      "35/35 [==============================] - 0s 7ms/step - loss: 113565280.0000 - val_loss: 7830.4316\n",
      "Epoch 72/10000\n",
      "35/35 [==============================] - 0s 6ms/step - loss: 113556216.0000 - val_loss: 7694.9751\n"
     ]
    },
    {
     "name": "stdout",
     "output_type": "stream",
     "text": [
      "Epoch 73/10000\n",
      "35/35 [==============================] - 0s 6ms/step - loss: 113547184.0000 - val_loss: 7565.8608\n",
      "Epoch 74/10000\n",
      "35/35 [==============================] - 0s 6ms/step - loss: 113538168.0000 - val_loss: 7442.0317\n",
      "Epoch 75/10000\n",
      "35/35 [==============================] - 0s 6ms/step - loss: 113529128.0000 - val_loss: 7316.1880\n",
      "Epoch 76/10000\n",
      "35/35 [==============================] - 0s 7ms/step - loss: 113520096.0000 - val_loss: 7201.9092\n",
      "Epoch 77/10000\n",
      "35/35 [==============================] - 0s 7ms/step - loss: 113511160.0000 - val_loss: 7057.9282\n",
      "Epoch 78/10000\n",
      "35/35 [==============================] - 0s 7ms/step - loss: 113502080.0000 - val_loss: 6943.1074\n",
      "Epoch 79/10000\n",
      "35/35 [==============================] - 0s 8ms/step - loss: 113493104.0000 - val_loss: 6835.3389\n",
      "Epoch 80/10000\n",
      "35/35 [==============================] - 0s 7ms/step - loss: 113484096.0000 - val_loss: 6742.2393\n",
      "Epoch 81/10000\n",
      "35/35 [==============================] - 0s 8ms/step - loss: 113475112.0000 - val_loss: 6643.4756\n",
      "Epoch 82/10000\n",
      "35/35 [==============================] - 0s 7ms/step - loss: 113466104.0000 - val_loss: 6535.4146\n",
      "Epoch 83/10000\n",
      "35/35 [==============================] - 0s 7ms/step - loss: 113457128.0000 - val_loss: 6425.0454\n",
      "Epoch 84/10000\n",
      "35/35 [==============================] - 0s 7ms/step - loss: 113448152.0000 - val_loss: 6306.0107\n",
      "Epoch 85/10000\n",
      "35/35 [==============================] - 0s 7ms/step - loss: 113439200.0000 - val_loss: 6196.3120\n",
      "Epoch 86/10000\n",
      "35/35 [==============================] - 0s 6ms/step - loss: 113430232.0000 - val_loss: 6093.0586\n",
      "Epoch 87/10000\n",
      "35/35 [==============================] - 0s 6ms/step - loss: 113421368.0000 - val_loss: 5988.2656\n",
      "Epoch 88/10000\n",
      "35/35 [==============================] - 0s 6ms/step - loss: 113412336.0000 - val_loss: 5885.5640\n",
      "Epoch 89/10000\n",
      "35/35 [==============================] - 0s 7ms/step - loss: 113403408.0000 - val_loss: 5789.3823\n",
      "Epoch 90/10000\n",
      "35/35 [==============================] - 0s 7ms/step - loss: 113394464.0000 - val_loss: 5700.0317\n",
      "Epoch 91/10000\n",
      "35/35 [==============================] - 0s 6ms/step - loss: 113385512.0000 - val_loss: 5602.4360\n",
      "Epoch 92/10000\n",
      "35/35 [==============================] - 0s 7ms/step - loss: 113378064.0000 - val_loss: 5513.8232\n",
      "Epoch 93/10000\n",
      "35/35 [==============================] - 0s 6ms/step - loss: 113367672.0000 - val_loss: 5413.4233\n",
      "Epoch 94/10000\n",
      "35/35 [==============================] - 0s 7ms/step - loss: 113358744.0000 - val_loss: 5324.2524\n",
      "Epoch 95/10000\n",
      "35/35 [==============================] - 0s 7ms/step - loss: 113349848.0000 - val_loss: 5238.6797\n",
      "Epoch 96/10000\n",
      "35/35 [==============================] - 0s 7ms/step - loss: 113340920.0000 - val_loss: 5144.9150\n",
      "Epoch 97/10000\n",
      "35/35 [==============================] - 0s 7ms/step - loss: 113332040.0000 - val_loss: 5072.2329\n",
      "Epoch 98/10000\n",
      "35/35 [==============================] - 0s 7ms/step - loss: 113323136.0000 - val_loss: 4994.1880\n",
      "Epoch 99/10000\n",
      "35/35 [==============================] - 0s 6ms/step - loss: 113314216.0000 - val_loss: 4916.0889\n",
      "Epoch 100/10000\n",
      "35/35 [==============================] - 0s 6ms/step - loss: 113305352.0000 - val_loss: 4823.5864\n",
      "Epoch 101/10000\n",
      "35/35 [==============================] - 0s 6ms/step - loss: 113296456.0000 - val_loss: 4727.2358\n",
      "Epoch 102/10000\n",
      "35/35 [==============================] - 0s 6ms/step - loss: 113287568.0000 - val_loss: 4655.3179\n",
      "Epoch 103/10000\n",
      "35/35 [==============================] - 0s 7ms/step - loss: 113278720.0000 - val_loss: 4582.1831\n",
      "Epoch 104/10000\n",
      "35/35 [==============================] - 0s 7ms/step - loss: 113269824.0000 - val_loss: 4513.8042\n",
      "Epoch 105/10000\n",
      "35/35 [==============================] - 0s 6ms/step - loss: 113260944.0000 - val_loss: 4441.8403\n",
      "Epoch 106/10000\n",
      "35/35 [==============================] - 0s 6ms/step - loss: 113252080.0000 - val_loss: 4375.8242\n",
      "Epoch 107/10000\n",
      "35/35 [==============================] - 0s 6ms/step - loss: 113243264.0000 - val_loss: 4297.1421\n",
      "Epoch 108/10000\n",
      "35/35 [==============================] - 0s 6ms/step - loss: 113234384.0000 - val_loss: 4226.1401\n",
      "Epoch 109/10000\n",
      "35/35 [==============================] - 0s 6ms/step - loss: 113225512.0000 - val_loss: 4171.2988\n",
      "Epoch 110/10000\n",
      "35/35 [==============================] - 0s 6ms/step - loss: 113216688.0000 - val_loss: 4121.2051\n",
      "Epoch 111/10000\n",
      "35/35 [==============================] - 0s 6ms/step - loss: 113207856.0000 - val_loss: 4011.4075\n",
      "Epoch 112/10000\n",
      "35/35 [==============================] - 0s 6ms/step - loss: 113198992.0000 - val_loss: 3976.0557\n",
      "Epoch 113/10000\n",
      "35/35 [==============================] - 0s 6ms/step - loss: 113190168.0000 - val_loss: 3898.2351\n",
      "Epoch 114/10000\n",
      "35/35 [==============================] - 0s 6ms/step - loss: 113181328.0000 - val_loss: 3828.6731\n",
      "Epoch 115/10000\n",
      "35/35 [==============================] - 0s 6ms/step - loss: 113172512.0000 - val_loss: 3798.3940\n",
      "Epoch 116/10000\n",
      "35/35 [==============================] - 0s 6ms/step - loss: 113163672.0000 - val_loss: 3702.9229\n",
      "Epoch 117/10000\n",
      "35/35 [==============================] - 0s 7ms/step - loss: 113154856.0000 - val_loss: 3659.2217\n",
      "Epoch 118/10000\n",
      "35/35 [==============================] - 0s 6ms/step - loss: 113146032.0000 - val_loss: 3591.2771\n",
      "Epoch 119/10000\n",
      "35/35 [==============================] - 0s 7ms/step - loss: 113137216.0000 - val_loss: 3519.5090\n",
      "Epoch 120/10000\n",
      "35/35 [==============================] - 0s 6ms/step - loss: 113128400.0000 - val_loss: 3494.7927\n",
      "Epoch 121/10000\n",
      "35/35 [==============================] - 0s 7ms/step - loss: 113119656.0000 - val_loss: 3407.1921\n",
      "Epoch 122/10000\n",
      "35/35 [==============================] - 0s 6ms/step - loss: 113110808.0000 - val_loss: 3405.0596\n",
      "Epoch 123/10000\n",
      "35/35 [==============================] - 0s 6ms/step - loss: 113102008.0000 - val_loss: 3288.1689\n",
      "Epoch 124/10000\n",
      "35/35 [==============================] - 0s 6ms/step - loss: 113093208.0000 - val_loss: 3282.9937\n",
      "Epoch 125/10000\n",
      "35/35 [==============================] - 0s 7ms/step - loss: 113084424.0000 - val_loss: 3325.8044\n",
      "Epoch 126/10000\n",
      "35/35 [==============================] - 0s 6ms/step - loss: 113075616.0000 - val_loss: 3164.9287\n",
      "Epoch 127/10000\n",
      "35/35 [==============================] - 0s 6ms/step - loss: 113066824.0000 - val_loss: 3053.0952\n",
      "Epoch 128/10000\n",
      "35/35 [==============================] - 0s 6ms/step - loss: 113058040.0000 - val_loss: 3087.6487\n",
      "Epoch 129/10000\n",
      "35/35 [==============================] - 0s 6ms/step - loss: 113049288.0000 - val_loss: 3115.0205\n",
      "Epoch 130/10000\n",
      "35/35 [==============================] - 0s 8ms/step - loss: 113040496.0000 - val_loss: 3019.4138\n",
      "Epoch 131/10000\n",
      "35/35 [==============================] - 0s 7ms/step - loss: 113031712.0000 - val_loss: 2981.8860\n",
      "Epoch 132/10000\n",
      "35/35 [==============================] - 0s 6ms/step - loss: 113022936.0000 - val_loss: 2895.6772\n",
      "Epoch 133/10000\n",
      "35/35 [==============================] - 0s 7ms/step - loss: 113014176.0000 - val_loss: 2872.6748\n",
      "Epoch 134/10000\n",
      "35/35 [==============================] - 0s 6ms/step - loss: 113005416.0000 - val_loss: 2846.8547\n",
      "Epoch 135/10000\n",
      "35/35 [==============================] - 0s 7ms/step - loss: 112996648.0000 - val_loss: 2824.3069\n",
      "Epoch 136/10000\n",
      "35/35 [==============================] - 0s 7ms/step - loss: 112987896.0000 - val_loss: 2802.0906\n",
      "Epoch 137/10000\n",
      "35/35 [==============================] - 0s 6ms/step - loss: 112979120.0000 - val_loss: 2673.0300\n",
      "Epoch 138/10000\n",
      "35/35 [==============================] - 0s 6ms/step - loss: 112970392.0000 - val_loss: 2670.0085\n",
      "Epoch 139/10000\n",
      "35/35 [==============================] - 0s 7ms/step - loss: 112961640.0000 - val_loss: 2583.0393\n",
      "Epoch 140/10000\n",
      "35/35 [==============================] - 0s 6ms/step - loss: 112952888.0000 - val_loss: 2523.8665\n",
      "Epoch 141/10000\n",
      "35/35 [==============================] - 0s 6ms/step - loss: 112944152.0000 - val_loss: 2557.4521\n",
      "Epoch 142/10000\n",
      "35/35 [==============================] - 0s 6ms/step - loss: 112935408.0000 - val_loss: 2528.1201\n",
      "Epoch 143/10000\n",
      "35/35 [==============================] - 0s 7ms/step - loss: 112926712.0000 - val_loss: 2528.9585\n",
      "Epoch 144/10000\n",
      "35/35 [==============================] - 0s 6ms/step - loss: 112917920.0000 - val_loss: 2367.6816\n",
      "Epoch 145/10000\n"
     ]
    },
    {
     "name": "stdout",
     "output_type": "stream",
     "text": [
      "35/35 [==============================] - 0s 6ms/step - loss: 112909208.0000 - val_loss: 2396.2219\n",
      "Epoch 146/10000\n",
      "35/35 [==============================] - 0s 6ms/step - loss: 112900472.0000 - val_loss: 2371.1455\n",
      "Epoch 147/10000\n",
      "35/35 [==============================] - 0s 7ms/step - loss: 112891728.0000 - val_loss: 2298.6548\n",
      "Epoch 148/10000\n",
      "35/35 [==============================] - 0s 7ms/step - loss: 112883024.0000 - val_loss: 2385.4131\n",
      "Epoch 149/10000\n",
      "35/35 [==============================] - 0s 7ms/step - loss: 112883400.0000 - val_loss: 2217.9421\n",
      "Epoch 150/10000\n",
      "35/35 [==============================] - 0s 8ms/step - loss: 112865600.0000 - val_loss: 2130.1323\n",
      "Epoch 151/10000\n",
      "35/35 [==============================] - 0s 8ms/step - loss: 112856880.0000 - val_loss: 2304.8030\n",
      "Epoch 152/10000\n",
      "35/35 [==============================] - 0s 7ms/step - loss: 112848176.0000 - val_loss: 2060.6631\n",
      "Epoch 153/10000\n",
      "35/35 [==============================] - 0s 7ms/step - loss: 112839448.0000 - val_loss: 2095.3152\n",
      "Epoch 154/10000\n",
      "35/35 [==============================] - 0s 7ms/step - loss: 112830752.0000 - val_loss: 2171.0413\n",
      "Epoch 155/10000\n",
      "35/35 [==============================] - 0s 6ms/step - loss: 112831248.0000 - val_loss: 2076.8794\n",
      "Epoch 156/10000\n",
      "35/35 [==============================] - 0s 6ms/step - loss: 112813352.0000 - val_loss: 2158.3479\n",
      "Epoch 157/10000\n",
      "35/35 [==============================] - 0s 6ms/step - loss: 112804680.0000 - val_loss: 2048.5249\n",
      "Epoch 158/10000\n",
      "35/35 [==============================] - 0s 7ms/step - loss: 112795976.0000 - val_loss: 1975.5468\n",
      "Epoch 159/10000\n",
      "35/35 [==============================] - 0s 6ms/step - loss: 112787280.0000 - val_loss: 2033.9769\n",
      "Epoch 160/10000\n",
      "35/35 [==============================] - 0s 7ms/step - loss: 112778576.0000 - val_loss: 1854.3065\n",
      "Epoch 161/10000\n",
      "35/35 [==============================] - 0s 7ms/step - loss: 112769920.0000 - val_loss: 2029.9567\n",
      "Epoch 162/10000\n",
      "35/35 [==============================] - 0s 7ms/step - loss: 112761232.0000 - val_loss: 1935.0291\n",
      "Epoch 163/10000\n",
      "35/35 [==============================] - 0s 7ms/step - loss: 112752544.0000 - val_loss: 1879.7959\n",
      "Epoch 164/10000\n",
      "35/35 [==============================] - 0s 7ms/step - loss: 112743864.0000 - val_loss: 1848.2909\n",
      "Epoch 165/10000\n",
      "35/35 [==============================] - 0s 7ms/step - loss: 112735184.0000 - val_loss: 1932.6965\n",
      "Epoch 166/10000\n",
      "35/35 [==============================] - 0s 7ms/step - loss: 112726504.0000 - val_loss: 1826.9198\n",
      "Epoch 167/10000\n",
      "35/35 [==============================] - 0s 7ms/step - loss: 112717824.0000 - val_loss: 1802.1564\n",
      "Epoch 168/10000\n",
      "35/35 [==============================] - 0s 6ms/step - loss: 112709160.0000 - val_loss: 1822.9175\n",
      "Epoch 169/10000\n",
      "35/35 [==============================] - 0s 6ms/step - loss: 112700496.0000 - val_loss: 1776.8868\n",
      "Epoch 170/10000\n",
      "35/35 [==============================] - 0s 6ms/step - loss: 112691832.0000 - val_loss: 1792.1403\n",
      "Epoch 171/10000\n",
      "35/35 [==============================] - 0s 6ms/step - loss: 112683160.0000 - val_loss: 1839.2354\n",
      "Epoch 172/10000\n",
      "35/35 [==============================] - 0s 7ms/step - loss: 112674480.0000 - val_loss: 1756.3793\n",
      "Epoch 173/10000\n",
      "35/35 [==============================] - 0s 6ms/step - loss: 112665824.0000 - val_loss: 1787.9122\n",
      "Epoch 174/10000\n",
      "35/35 [==============================] - 0s 6ms/step - loss: 112657176.0000 - val_loss: 1763.9268\n",
      "Epoch 175/10000\n",
      "35/35 [==============================] - 0s 6ms/step - loss: 112648528.0000 - val_loss: 1639.0579\n",
      "Epoch 176/10000\n",
      "35/35 [==============================] - 0s 7ms/step - loss: 112639872.0000 - val_loss: 1979.9087\n",
      "Epoch 177/10000\n",
      "35/35 [==============================] - 0s 7ms/step - loss: 112631232.0000 - val_loss: 1356.4148\n",
      "Epoch 178/10000\n",
      "35/35 [==============================] - 0s 7ms/step - loss: 112622616.0000 - val_loss: 1864.2416\n",
      "Epoch 179/10000\n",
      "35/35 [==============================] - 0s 7ms/step - loss: 112613936.0000 - val_loss: 2077.2983\n",
      "Epoch 180/10000\n"
     ]
    },
    {
     "ename": "KeyboardInterrupt",
     "evalue": "",
     "output_type": "error",
     "traceback": [
      "\u001b[1;31m---------------------------------------------------------------------------\u001b[0m",
      "\u001b[1;31mKeyboardInterrupt\u001b[0m                         Traceback (most recent call last)",
      "\u001b[1;32m<ipython-input-37-4ba1ab27c5fe>\u001b[0m in \u001b[0;36m<module>\u001b[1;34m\u001b[0m\n\u001b[1;32m----> 1\u001b[1;33m \u001b[0mmodel\u001b[0m\u001b[1;33m.\u001b[0m\u001b[0mfit\u001b[0m\u001b[1;33m(\u001b[0m\u001b[0mx\u001b[0m\u001b[1;33m=\u001b[0m\u001b[0mx_train\u001b[0m\u001b[1;33m,\u001b[0m \u001b[0my\u001b[0m\u001b[1;33m=\u001b[0m\u001b[0my_train\u001b[0m\u001b[1;33m,\u001b[0m \u001b[0mvalidation_data\u001b[0m\u001b[1;33m=\u001b[0m\u001b[1;33m(\u001b[0m\u001b[0mx_val\u001b[0m\u001b[1;33m,\u001b[0m \u001b[0my_val\u001b[0m\u001b[1;33m)\u001b[0m\u001b[1;33m,\u001b[0m \u001b[0mbatch_size\u001b[0m\u001b[1;33m=\u001b[0m\u001b[0mn_countries\u001b[0m\u001b[1;33m,\u001b[0m \u001b[0mepochs\u001b[0m\u001b[1;33m=\u001b[0m\u001b[1;36m10000\u001b[0m\u001b[1;33m)\u001b[0m\u001b[1;33m\u001b[0m\u001b[1;33m\u001b[0m\u001b[0m\n\u001b[0m",
      "\u001b[1;32md:\\anaconda\\envs\\tf\\lib\\site-packages\\tensorflow\\python\\keras\\engine\\training.py\u001b[0m in \u001b[0;36mfit\u001b[1;34m(self, x, y, batch_size, epochs, verbose, callbacks, validation_split, validation_data, shuffle, class_weight, sample_weight, initial_epoch, steps_per_epoch, validation_steps, **kwargs)\u001b[0m\n\u001b[0;32m   1346\u001b[0m           \u001b[0minitial_epoch\u001b[0m\u001b[1;33m=\u001b[0m\u001b[0minitial_epoch\u001b[0m\u001b[1;33m,\u001b[0m\u001b[1;33m\u001b[0m\u001b[1;33m\u001b[0m\u001b[0m\n\u001b[0;32m   1347\u001b[0m           \u001b[0msteps_per_epoch\u001b[0m\u001b[1;33m=\u001b[0m\u001b[0msteps_per_epoch\u001b[0m\u001b[1;33m,\u001b[0m\u001b[1;33m\u001b[0m\u001b[1;33m\u001b[0m\u001b[0m\n\u001b[1;32m-> 1348\u001b[1;33m           validation_steps=validation_steps)\n\u001b[0m\u001b[0;32m   1349\u001b[0m \u001b[1;33m\u001b[0m\u001b[0m\n\u001b[0;32m   1350\u001b[0m   def evaluate(self,\n",
      "\u001b[1;32md:\\anaconda\\envs\\tf\\lib\\site-packages\\tensorflow\\python\\keras\\engine\\training_arrays.py\u001b[0m in \u001b[0;36mfit_loop\u001b[1;34m(model, inputs, targets, sample_weights, batch_size, epochs, verbose, callbacks, val_inputs, val_targets, val_sample_weights, shuffle, callback_metrics, initial_epoch, steps_per_epoch, validation_steps)\u001b[0m\n\u001b[0;32m    269\u001b[0m                 \u001b[0msample_weights\u001b[0m\u001b[1;33m=\u001b[0m\u001b[0mval_sample_weights\u001b[0m\u001b[1;33m,\u001b[0m\u001b[1;33m\u001b[0m\u001b[1;33m\u001b[0m\u001b[0m\n\u001b[0;32m    270\u001b[0m                 \u001b[0mbatch_size\u001b[0m\u001b[1;33m=\u001b[0m\u001b[0mbatch_size\u001b[0m\u001b[1;33m,\u001b[0m\u001b[1;33m\u001b[0m\u001b[1;33m\u001b[0m\u001b[0m\n\u001b[1;32m--> 271\u001b[1;33m                 verbose=0)\n\u001b[0m\u001b[0;32m    272\u001b[0m             \u001b[1;32mif\u001b[0m \u001b[1;32mnot\u001b[0m \u001b[0misinstance\u001b[0m\u001b[1;33m(\u001b[0m\u001b[0mval_outs\u001b[0m\u001b[1;33m,\u001b[0m \u001b[0mlist\u001b[0m\u001b[1;33m)\u001b[0m\u001b[1;33m:\u001b[0m\u001b[1;33m\u001b[0m\u001b[1;33m\u001b[0m\u001b[0m\n\u001b[0;32m    273\u001b[0m               \u001b[0mval_outs\u001b[0m \u001b[1;33m=\u001b[0m \u001b[1;33m[\u001b[0m\u001b[0mval_outs\u001b[0m\u001b[1;33m]\u001b[0m\u001b[1;33m\u001b[0m\u001b[1;33m\u001b[0m\u001b[0m\n",
      "\u001b[1;32md:\\anaconda\\envs\\tf\\lib\\site-packages\\tensorflow\\python\\keras\\engine\\training_arrays.py\u001b[0m in \u001b[0;36mtest_loop\u001b[1;34m(model, inputs, targets, sample_weights, batch_size, verbose, steps)\u001b[0m\n\u001b[0;32m    471\u001b[0m         \u001b[0mins_batch\u001b[0m\u001b[1;33m[\u001b[0m\u001b[0mi\u001b[0m\u001b[1;33m]\u001b[0m \u001b[1;33m=\u001b[0m \u001b[0mins_batch\u001b[0m\u001b[1;33m[\u001b[0m\u001b[0mi\u001b[0m\u001b[1;33m]\u001b[0m\u001b[1;33m.\u001b[0m\u001b[0mtoarray\u001b[0m\u001b[1;33m(\u001b[0m\u001b[1;33m)\u001b[0m\u001b[1;33m\u001b[0m\u001b[1;33m\u001b[0m\u001b[0m\n\u001b[0;32m    472\u001b[0m \u001b[1;33m\u001b[0m\u001b[0m\n\u001b[1;32m--> 473\u001b[1;33m       \u001b[0mbatch_outs\u001b[0m \u001b[1;33m=\u001b[0m \u001b[0mf\u001b[0m\u001b[1;33m(\u001b[0m\u001b[0mins_batch\u001b[0m\u001b[1;33m)\u001b[0m\u001b[1;33m\u001b[0m\u001b[1;33m\u001b[0m\u001b[0m\n\u001b[0m\u001b[0;32m    474\u001b[0m \u001b[1;33m\u001b[0m\u001b[0m\n\u001b[0;32m    475\u001b[0m       \u001b[1;32mif\u001b[0m \u001b[0misinstance\u001b[0m\u001b[1;33m(\u001b[0m\u001b[0mbatch_outs\u001b[0m\u001b[1;33m,\u001b[0m \u001b[0mlist\u001b[0m\u001b[1;33m)\u001b[0m\u001b[1;33m:\u001b[0m\u001b[1;33m\u001b[0m\u001b[1;33m\u001b[0m\u001b[0m\n",
      "\u001b[1;32md:\\anaconda\\envs\\tf\\lib\\site-packages\\tensorflow\\python\\keras\\backend.py\u001b[0m in \u001b[0;36m__call__\u001b[1;34m(self, inputs)\u001b[0m\n\u001b[0;32m   2895\u001b[0m       \u001b[0mself\u001b[0m\u001b[1;33m.\u001b[0m\u001b[0m_make_callable\u001b[0m\u001b[1;33m(\u001b[0m\u001b[0mfeed_arrays\u001b[0m\u001b[1;33m,\u001b[0m \u001b[0mfeed_symbols\u001b[0m\u001b[1;33m,\u001b[0m \u001b[0msymbol_vals\u001b[0m\u001b[1;33m,\u001b[0m \u001b[0msession\u001b[0m\u001b[1;33m)\u001b[0m\u001b[1;33m\u001b[0m\u001b[1;33m\u001b[0m\u001b[0m\n\u001b[0;32m   2896\u001b[0m \u001b[1;33m\u001b[0m\u001b[0m\n\u001b[1;32m-> 2897\u001b[1;33m     \u001b[0mfetched\u001b[0m \u001b[1;33m=\u001b[0m \u001b[0mself\u001b[0m\u001b[1;33m.\u001b[0m\u001b[0m_callable_fn\u001b[0m\u001b[1;33m(\u001b[0m\u001b[1;33m*\u001b[0m\u001b[0marray_vals\u001b[0m\u001b[1;33m)\u001b[0m\u001b[1;33m\u001b[0m\u001b[1;33m\u001b[0m\u001b[0m\n\u001b[0m\u001b[0;32m   2898\u001b[0m     \u001b[1;32mreturn\u001b[0m \u001b[0mfetched\u001b[0m\u001b[1;33m[\u001b[0m\u001b[1;33m:\u001b[0m\u001b[0mlen\u001b[0m\u001b[1;33m(\u001b[0m\u001b[0mself\u001b[0m\u001b[1;33m.\u001b[0m\u001b[0moutputs\u001b[0m\u001b[1;33m)\u001b[0m\u001b[1;33m]\u001b[0m\u001b[1;33m\u001b[0m\u001b[1;33m\u001b[0m\u001b[0m\n\u001b[0;32m   2899\u001b[0m \u001b[1;33m\u001b[0m\u001b[0m\n",
      "\u001b[1;32md:\\anaconda\\envs\\tf\\lib\\site-packages\\tensorflow\\python\\client\\session.py\u001b[0m in \u001b[0;36m__call__\u001b[1;34m(self, *args)\u001b[0m\n\u001b[0;32m   1449\u001b[0m         \u001b[1;32mif\u001b[0m \u001b[0mself\u001b[0m\u001b[1;33m.\u001b[0m\u001b[0m_session\u001b[0m\u001b[1;33m.\u001b[0m\u001b[0m_created_with_new_api\u001b[0m\u001b[1;33m:\u001b[0m\u001b[1;33m\u001b[0m\u001b[1;33m\u001b[0m\u001b[0m\n\u001b[0;32m   1450\u001b[0m           return tf_session.TF_SessionRunCallable(\n\u001b[1;32m-> 1451\u001b[1;33m               self._session._session, self._handle, args, status, None)\n\u001b[0m\u001b[0;32m   1452\u001b[0m         \u001b[1;32melse\u001b[0m\u001b[1;33m:\u001b[0m\u001b[1;33m\u001b[0m\u001b[1;33m\u001b[0m\u001b[0m\n\u001b[0;32m   1453\u001b[0m           return tf_session.TF_DeprecatedSessionRunCallable(\n",
      "\u001b[1;31mKeyboardInterrupt\u001b[0m: "
     ]
    }
   ],
   "source": [
    "model.fit(x=x_train, y=y_train, validation_data=(x_val, y_val), batch_size=n_countries, epochs=10000)"
   ]
  },
  {
   "cell_type": "code",
   "execution_count": 38,
   "metadata": {},
   "outputs": [],
   "source": [
    "preds_nl = np.squeeze(model.predict(x_test))"
   ]
  },
  {
   "cell_type": "code",
   "execution_count": 39,
   "metadata": {},
   "outputs": [],
   "source": [
    "# plot  predictions vs actual infections\n",
    "def plot_preds_vs_actual(dates, predictions, labels):\n",
    "    fig, ax = plt.subplots(1,1)\n",
    "    fig.set_size_inches(10,5)\n",
    "    plt.xticks(ticks=[0, 50], labels=[dates.unique()[0], dates.unique()[50]])\n",
    "    plt.ylabel('Infections')\n",
    "    plt.xlabel('date')\n",
    "    plt.title('Predicted infections versus actual infections in the Netherlands')\n",
    "    sns.lineplot(data=np.squeeze(labels), ax=ax)\n",
    "    sns.lineplot(data=predictions, ax=ax)\n",
    "    plt.legend(['Actual', 'Predictions']) "
   ]
  },
  {
   "cell_type": "code",
   "execution_count": 40,
   "metadata": {},
   "outputs": [
    {
     "data": {
      "image/png": "[encoded data removed]",
      "text/plain": [
       "<Figure size 720x360 with 1 Axes>"
      ]
     },
     "metadata": {
      "needs_background": "light"
     },
     "output_type": "display_data"
    }
   ],
   "source": [
    "# show predictions vs actual infections\n",
    "plot_preds_vs_actual(dates, preds_nl, y_test)"
   ]
  },
  {
   "cell_type": "code",
   "execution_count": 60,
   "metadata": {},
   "outputs": [],
   "source": [
    "# predict until certain point, then add predictions to data to keep forecasting\n",
    "def forecast(model, data, days_ahead):\n",
    "    idx_infected = 0\n",
    "    idx_day = 3\n",
    "    idx_month = 2\n",
    "    \n",
    "    # do initial prediction\n",
    "    preds = model.predict(data)\n",
    "     \n",
    "    for i in range(days_ahead):\n",
    "        # take final prediction\n",
    "        pred_new = preds[:, -1]\n",
    "        # copy timeseries timestep \n",
    "        timestep_new = data[0, -1].copy()\n",
    "        # increment day and month, or reset if needed\n",
    "        \"\"\"if(timestep_new[idx_day] <= 30):\n",
    "            timestep_new[idx_day] += 1\n",
    "        else:\n",
    "             timestep_new[idx_day] = 1\n",
    "             timestep_new[idx_month] += 1\n",
    "   \n",
    "        \"\"\"\n",
    "            \n",
    "        # add predicted infections as actual infections to new timestep\n",
    "        timestep_new[idx_infected] = pred_new\n",
    "        # append new timestep to time series\n",
    "        timestep_new = np.expand_dims(timestep_new, axis=[0,1]) \n",
    "        data = np.append(data, timestep_new, axis=1)\n",
    "        #data = data[:, 1:]\n",
    "        \n",
    "        preds = model.predict(data)\n",
    "        \n",
    "    #print(np.squeeze(preds))\n",
    "    return np.squeeze(preds)"
   ]
  },
  {
   "cell_type": "code",
   "execution_count": 63,
   "metadata": {
    "scrolled": false
   },
   "outputs": [
    {
     "data": {
      "text/plain": [
       "(60,)"
      ]
     },
     "execution_count": 63,
     "metadata": {},
     "output_type": "execute_result"
    }
   ],
   "source": [
    "preds = forecast(model, x_test.copy(), 10)\n",
    "preds.shape"
   ]
  },
  {
   "cell_type": "code",
   "execution_count": 64,
   "metadata": {},
   "outputs": [
    {
     "data": {
      "image/png": "[encoded data removed]",
      "text/plain": [
       "<Figure size 720x360 with 1 Axes>"
      ]
     },
     "metadata": {
      "needs_background": "light"
     },
     "output_type": "display_data"
    }
   ],
   "source": [
    "plot_preds_vs_actual(dates=dates, predictions=preds, labels=y_test)"
   ]
  },
  {
   "cell_type": "code",
   "execution_count": null,
   "metadata": {},
   "outputs": [],
   "source": []
  },
  {
   "cell_type": "code",
   "execution_count": null,
   "metadata": {},
   "outputs": [],
   "source": []
  },
  {
   "cell_type": "code",
   "execution_count": null,
   "metadata": {},
   "outputs": [],
   "source": []
  }
 ],
 "metadata": {
  "kernelspec": {
   "display_name": "Python 3",
   "language": "python",
   "name": "python3"
  },
  "language_info": {
   "codemirror_mode": {
    "name": "ipython",
    "version": 3
   },
   "file_extension": ".py",
   "mimetype": "text/x-python",
   "name": "python",
   "nbconvert_exporter": "python",
   "pygments_lexer": "ipython3",
   "version": "3.6.10"
  }
 },
 "nbformat": 4,
 "nbformat_minor": 4
}
